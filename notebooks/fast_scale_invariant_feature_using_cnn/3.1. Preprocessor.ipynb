{
 "cells": [
  {
   "cell_type": "markdown",
   "metadata": {},
   "source": [
    "## 3.1. Preprocessor for SIFT feature target generator"
   ]
  },
  {
   "cell_type": "code",
   "execution_count": 1,
   "metadata": {},
   "outputs": [],
   "source": [
    "import time\n",
    "\n",
    "import numpy as np\n",
    "import tensorflow as tf\n",
    "import tensorpack as tp\n",
    "\n",
    "import cv2\n",
    "import matplotlib.pyplot as plt\n",
    "%matplotlib inline"
   ]
  },
  {
   "cell_type": "code",
   "execution_count": 2,
   "metadata": {},
   "outputs": [
    {
     "name": "stderr",
     "output_type": "stream",
     "text": [
      "\r",
      "  0%|          |0/2[00:00<?,?it/s]"
     ]
    },
    {
     "name": "stdout",
     "output_type": "stream",
     "text": [
      "\u001b[32m[1105 00:59:52 @common.py:726]\u001b[0m \u001b[36mDataFlow Info:\u001b[0m\n",
      "datapoint 0<2 with 2 components consists of\n",
      "   dp 0: is ndarray of shape (2, 480, 640, 3) with range [3.0000, 255.0000]\n",
      "   dp 1: is ndarray of shape (2, 480, 640, 3) with range [0.0000, 2.0002]\n"
     ]
    },
    {
     "name": "stderr",
     "output_type": "stream",
     "text": [
      "\r",
      "100%|##########|2/2[00:00<00:00, 3.90it/s]"
     ]
    },
    {
     "name": "stdout",
     "output_type": "stream",
     "text": [
      "datapoint 1<2 with 2 components consists of\n",
      "   dp 0: is ndarray of shape (2, 480, 640, 3) with range [0.0000, 255.0000]\n",
      "   dp 1: is ndarray of shape (2, 480, 640, 3) with range [0.0000, 1.2752]\n"
     ]
    },
    {
     "name": "stderr",
     "output_type": "stream",
     "text": [
      "\n"
     ]
    }
   ],
   "source": [
    "from tensorpack.dataflow import *\n",
    "\n",
    "class SampleList(RNGDataFlow):\n",
    "    def __init__(self, shuffle=False):\n",
    "        self.filelist = [\n",
    "            ('datas/yosemite_test/yosemite1.jpg', 1),\n",
    "            ('datas/yosemite_test/yosemite2.jpg', 2),\n",
    "            ('datas/yosemite_test/yosemite3.jpg', 3),\n",
    "            ('datas/yosemite_test/yosemite4.jpg', 4),\n",
    "        ]\n",
    "        self.shuffle = shuffle\n",
    "        self.detector = cv2.xfeatures2d.SIFT_create()\n",
    "        \n",
    "    def size(self):\n",
    "        return len(self.filelist)\n",
    "    \n",
    "    def preprocessing(self, filename):\n",
    "        image = cv2.imread(filename)\n",
    "        shape = image.shape[:2]\n",
    "        \n",
    "        keypoints = self.detector.detect(cv2.cvtColor(cv2.imread(filename), cv2.COLOR_BGR2GRAY))\n",
    "        feature = np.zeros( shape + (3,) )\n",
    "        for kp in keypoints:\n",
    "            x = int(kp.pt[0]+0.5)\n",
    "            y = int(kp.pt[1]+0.5)\n",
    "            feature[y][x][0] = kp.response\n",
    "            feature[y][x][1] = kp.size / 100.0\n",
    "            feature[y][x][2] = kp.angle / 360.0\n",
    "        return [image, feature]\n",
    "        \n",
    "    def get_data(self):\n",
    "        idxs = np.arange(len(self.filelist))\n",
    "        if self.shuffle:\n",
    "            self.rng.shuffle(idxs)\n",
    "        for k in idxs:\n",
    "            filename, label = self.filelist[k]\n",
    "            yield self.preprocessing(filename)\n",
    "\n",
    "ds = SampleList()\n",
    "ds = BatchData(ds, 2, use_list=False)\n",
    "ds = PrintData(ds, num=2)\n",
    "TestDataSpeed(ds, size=2).start()"
   ]
  },
  {
   "cell_type": "code",
   "execution_count": null,
   "metadata": {},
   "outputs": [],
   "source": []
  },
  {
   "cell_type": "code",
   "execution_count": null,
   "metadata": {},
   "outputs": [],
   "source": []
  }
 ],
 "metadata": {
  "kernelspec": {
   "display_name": "Python 3",
   "language": "python",
   "name": "python3"
  },
  "language_info": {
   "codemirror_mode": {
    "name": "ipython",
    "version": 3
   },
   "file_extension": ".py",
   "mimetype": "text/x-python",
   "name": "python",
   "nbconvert_exporter": "python",
   "pygments_lexer": "ipython3",
   "version": "3.6.2"
  }
 },
 "nbformat": 4,
 "nbformat_minor": 2
}
