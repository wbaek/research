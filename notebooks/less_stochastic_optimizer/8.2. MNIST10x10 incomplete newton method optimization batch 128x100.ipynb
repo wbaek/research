{
 "cells": [
  {
   "cell_type": "code",
   "execution_count": 1,
   "metadata": {},
   "outputs": [],
   "source": [
    "import functools\n",
    "import tensorflow as tf\n",
    "from core.model import ModelMNIST10x10_base\n",
    "from core.hessian import diagonal_inverse_hessians_highrank\n",
    "\n",
    "class Implement(ModelMNIST10x10_base):\n",
    "    def __init__(self, batch_size=128, opt=tf.train.MomentumOptimizer(0.1, 0.9, use_nesterov=True)):\n",
    "        super(Implement, self).__init__(batch_size, opt)\n",
    "\n",
    "    def compute_gradient(self, cost, var_refs):\n",
    "        grads = tf.gradients(\n",
    "                cost, var_refs,\n",
    "                grad_ys=None, aggregation_method=None, colocate_gradients_with_ops=True)\n",
    "        hessis = diagonal_inverse_hessians_highrank(\n",
    "                 cost, var_refs, gradients=grads,\n",
    "                 aggregation_method=None, colocate_gradients_with_ops=True)\n",
    "        \n",
    "        second_order_grads = []\n",
    "        for l, g, h in zip(range(len(grads)), grads, hessis):\n",
    "            shape = g.shape\n",
    "            d = int(functools.reduce(lambda a,b: a*b, shape))\n",
    "\n",
    "            h_inv = tf.reshape(h, shape)\n",
    "            delta = tf.multiply(h_inv, g)\n",
    "            second_order_grads.append(delta)\n",
    "            \n",
    "            tf.summary.histogram('update/gradient/{}'.format(l), g)\n",
    "            tf.summary.histogram('update/hessian/{}'.format(l), h)\n",
    "            tf.summary.histogram('update/delta/{}'.format(l), delta)            \n",
    "        return second_order_grads"
   ]
  },
  {
   "cell_type": "code",
   "execution_count": 2,
   "metadata": {},
   "outputs": [
    {
     "name": "stdout",
     "output_type": "stream",
     "text": [
      "\u001b[32m[1124 14:23:46 @fs.py:89]\u001b[0m \u001b[5m\u001b[31mWRN\u001b[0m Env var $TENSORPACK_DATASET not set, using /root/tensorpack_data for datasets.\n",
      "\u001b[32m[1124 14:23:46 @prefetch.py:169]\u001b[0m [PrefetchData] Will fork a dataflow more than one times. This assumes the datapoints are i.i.d.\n",
      "[INFO] session initialized\n",
      "[INFO] [0000] [train] cost:0.575 accuracy:0.087 elapsed:1.617sec [valid] cost:0.385 accuracy:0.089 elapsed:0.040sec\n",
      "[INFO] [0001] [train] cost:0.344 accuracy:0.091 elapsed:0.193sec [valid] cost:0.327 accuracy:0.096 elapsed:0.006sec\n",
      "[INFO] [0002] [train] cost:0.326 accuracy:0.090 elapsed:0.193sec [valid] cost:0.325 accuracy:0.114 elapsed:0.006sec\n",
      "[INFO] [0003] [train] cost:0.325 accuracy:0.114 elapsed:0.190sec [valid] cost:0.325 accuracy:0.114 elapsed:0.007sec\n",
      "[INFO] [0004] [train] cost:0.325 accuracy:0.122 elapsed:0.189sec [valid] cost:0.324 accuracy:0.119 elapsed:0.006sec\n",
      "[INFO] [0005] [train] cost:0.324 accuracy:0.132 elapsed:0.188sec [valid] cost:0.324 accuracy:0.174 elapsed:0.007sec\n",
      "[INFO] [0006] [train] cost:0.323 accuracy:0.183 elapsed:0.190sec [valid] cost:0.322 accuracy:0.238 elapsed:0.006sec\n",
      "[INFO] [0007] [train] cost:0.321 accuracy:0.264 elapsed:0.190sec [valid] cost:0.319 accuracy:0.298 elapsed:0.007sec\n",
      "[INFO] [0008] [train] cost:0.317 accuracy:0.358 elapsed:0.190sec [valid] cost:0.314 accuracy:0.312 elapsed:0.007sec\n",
      "[INFO] [0009] [train] cost:0.311 accuracy:0.343 elapsed:0.190sec [valid] cost:0.309 accuracy:0.298 elapsed:0.006sec\n",
      "[INFO] [0010] [train] cost:0.302 accuracy:0.362 elapsed:0.190sec [valid] cost:0.291 accuracy:0.381 elapsed:0.006sec\n",
      "[INFO] [0011] [train] cost:0.277 accuracy:0.456 elapsed:0.189sec [valid] cost:0.257 accuracy:0.470 elapsed:0.006sec\n",
      "[INFO] [0012] [train] cost:0.242 accuracy:0.502 elapsed:0.190sec [valid] cost:0.229 accuracy:0.516 elapsed:0.006sec\n",
      "[INFO] [0013] [train] cost:0.226 accuracy:0.523 elapsed:0.190sec [valid] cost:0.222 accuracy:0.555 elapsed:0.007sec\n",
      "[INFO] [0014] [train] cost:0.224 accuracy:0.548 elapsed:0.191sec [valid] cost:0.217 accuracy:0.579 elapsed:0.007sec\n",
      "[INFO] [0015] [train] cost:0.219 accuracy:0.559 elapsed:0.192sec [valid] cost:0.209 accuracy:0.603 elapsed:0.007sec\n",
      "[INFO] [0016] [train] cost:0.213 accuracy:0.575 elapsed:0.192sec [valid] cost:0.202 accuracy:0.625 elapsed:0.007sec\n",
      "[INFO] [0017] [train] cost:0.208 accuracy:0.586 elapsed:0.193sec [valid] cost:0.196 accuracy:0.647 elapsed:0.006sec\n",
      "[INFO] [0018] [train] cost:0.203 accuracy:0.601 elapsed:0.192sec [valid] cost:0.191 accuracy:0.667 elapsed:0.006sec\n",
      "[INFO] [0019] [train] cost:0.200 accuracy:0.614 elapsed:0.193sec [valid] cost:0.188 accuracy:0.682 elapsed:0.006sec\n",
      "[INFO] [0020] [train] cost:0.198 accuracy:0.625 elapsed:0.191sec [valid] cost:0.185 accuracy:0.689 elapsed:0.006sec\n",
      "[INFO] [0021] [train] cost:0.195 accuracy:0.632 elapsed:0.192sec [valid] cost:0.182 accuracy:0.694 elapsed:0.006sec\n",
      "[INFO] [0022] [train] cost:0.193 accuracy:0.639 elapsed:0.191sec [valid] cost:0.180 accuracy:0.701 elapsed:0.006sec\n",
      "[INFO] [0023] [train] cost:0.190 accuracy:0.646 elapsed:0.191sec [valid] cost:0.177 accuracy:0.704 elapsed:0.006sec\n",
      "[INFO] [0024] [train] cost:0.188 accuracy:0.651 elapsed:0.191sec [valid] cost:0.175 accuracy:0.709 elapsed:0.006sec\n",
      "[INFO] [0025] [train] cost:0.187 accuracy:0.653 elapsed:0.194sec [valid] cost:0.172 accuracy:0.714 elapsed:0.006sec\n",
      "[INFO] [0026] [train] cost:0.185 accuracy:0.656 elapsed:0.192sec [valid] cost:0.170 accuracy:0.720 elapsed:0.006sec\n",
      "[INFO] [0027] [train] cost:0.183 accuracy:0.664 elapsed:0.191sec [valid] cost:0.168 accuracy:0.723 elapsed:0.007sec\n",
      "[INFO] [0028] [train] cost:0.181 accuracy:0.668 elapsed:0.192sec [valid] cost:0.166 accuracy:0.726 elapsed:0.007sec\n",
      "[INFO] [0029] [train] cost:0.180 accuracy:0.666 elapsed:0.191sec [valid] cost:0.164 accuracy:0.733 elapsed:0.006sec\n"
     ]
    }
   ],
   "source": [
    "import sys\n",
    "import logging\n",
    "logging.basicConfig(level=logging.INFO, format='[%(levelname)s] %(message)s', stream=sys.stdout)\n",
    "\n",
    "from core.utils import loop\n",
    "model = Implement(batch_size=128*100)\n",
    "history = loop(model, 30, './summary/8_2_incomplete_second_order_optimization_batch_128x100')"
   ]
  },
  {
   "cell_type": "code",
   "execution_count": null,
   "metadata": {},
   "outputs": [],
   "source": [
    "import matplotlib\n",
    "%matplotlib inline\n",
    "\n",
    "from core.utils import plot_jupyter\n",
    "plot_jupyter(history)"
   ]
  }
 ],
 "metadata": {
  "kernelspec": {
   "display_name": "Python 3",
   "language": "python",
   "name": "python3"
  },
  "language_info": {
   "codemirror_mode": {
    "name": "ipython",
    "version": 3
   },
   "file_extension": ".py",
   "mimetype": "text/x-python",
   "name": "python",
   "nbconvert_exporter": "python",
   "pygments_lexer": "ipython3",
   "version": "3.5.2"
  }
 },
 "nbformat": 4,
 "nbformat_minor": 2
}
