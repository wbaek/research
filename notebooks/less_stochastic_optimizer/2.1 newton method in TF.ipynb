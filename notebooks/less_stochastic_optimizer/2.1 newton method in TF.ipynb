{
 "cells": [
  {
   "cell_type": "code",
   "execution_count": 1,
   "metadata": {},
   "outputs": [],
   "source": [
    "import numpy as np\n",
    "import tensorflow as tf\n",
    "\n",
    "initial = [np.random.random_sample(), np.random.random_sample()]"
   ]
  },
  {
   "cell_type": "markdown",
   "metadata": {},
   "source": [
    "## First-order Minimization"
   ]
  },
  {
   "cell_type": "code",
   "execution_count": 15,
   "metadata": {},
   "outputs": [
    {
     "name": "stdout",
     "output_type": "stream",
     "text": [
      "EPOCH 0 f=11.267 variables= ['0.926', '0.099']\n",
      "\t \tgradients= ['6.049', '7.446'] delta= ['-1.512', '-1.861']\n",
      "EPOCH 1 f=6.571 variables= ['-0.587', '-1.762']\n",
      "\t \tgradients= ['-0.698', '-6.747'] delta= ['0.175', '1.687']\n",
      "EPOCH 2 f=4.223 variables= ['-0.412', '-0.075']\n",
      "\t \tgradients= ['3.025', '3.723'] delta= ['-0.756', '-0.931']\n",
      "EPOCH 3 f=3.049 variables= ['-1.168', '-1.006']\n",
      "\t \tgradients= ['-0.349', '-3.374'] delta= ['0.087', '0.843']\n",
      "EPOCH 4 f=2.462 variables= ['-1.081', '-0.163']\n",
      "\t \tgradients= ['1.512', '1.861'] delta= ['-0.378', '-0.465']\n",
      "EPOCH 5 f=2.169 variables= ['-1.459', '-0.628']\n",
      "\t \tgradients= ['-0.175', '-1.687'] delta= ['0.044', '0.422']\n",
      "EPOCH 6 f=2.022 variables= ['-1.416', '-0.206']\n",
      "\t \tgradients= ['0.756', '0.931'] delta= ['-0.189', '-0.233']\n",
      "EPOCH 7 f=1.948 variables= ['-1.605', '-0.439']\n",
      "\t \tgradients= ['-0.087', '-0.843'] delta= ['0.022', '0.211']\n",
      "EPOCH 8 f=1.912 variables= ['-1.583', '-0.228']\n",
      "\t \tgradients= ['0.378', '0.465'] delta= ['-0.095', '-0.116']\n",
      "EPOCH 9 f=1.893 variables= ['-1.677', '-0.345']\n",
      "\t \tgradients= ['-0.044', '-0.422'] delta= ['0.011', '0.105']\n",
      "FINAL   f=1.884 variables= ['-1.666', '-0.239']\n"
     ]
    }
   ],
   "source": [
    "sess = tf.InteractiveSession()\n",
    "\n",
    "vs = tf.Variable(initial, dtype='float32')\n",
    "f = vs[0]**2 + 2.0*vs[0]*vs[1] + 3.0*vs[1]**2 + 4.0*vs[0] + 5.0*vs[1] + 6.0\n",
    "sess.run(tf.global_variables_initializer())\n",
    "\n",
    "learning_rate = 0.25\n",
    "for e in range(10):\n",
    "    print('EPOCH', e, 'f=%.3f'%f.eval(), 'variables=', ['%.3f'%v for v in vs.eval()])\n",
    "    \n",
    "    grads = tf.gradients(f, vs)[0]\n",
    "    delta = - grads*learning_rate\n",
    "    print('\\t \\tgradients=', ['%.3f'%g for g in grads.eval()],\n",
    "          'delta=', ['%.3f'%d for d in delta.eval()])\n",
    "    op = vs.assign( vs + delta )\n",
    "    op.eval()\n",
    "\n",
    "print('FINAL  ', 'f=%.3f'%f.eval(), 'variables=', ['%.3f'%v for v in vs.eval()])\n",
    "sess.close()"
   ]
  },
  {
   "cell_type": "markdown",
   "metadata": {},
   "source": [
    "## Second-order Minimization"
   ]
  },
  {
   "cell_type": "code",
   "execution_count": 3,
   "metadata": {},
   "outputs": [
    {
     "name": "stdout",
     "output_type": "stream",
     "text": [
      "EPOCH 0 f=11.267 variables= ['0.926', '0.099']\n",
      "\t \tgradients= ['6.049', '7.446'] hessi_inv= [[ 0.75 -0.25], [-0.25  0.25]] delta= ['-2.676', '-0.349']\n",
      "EPOCH 1 f=1.875 variables= ['-1.750', '-0.250']\n",
      "\t \tgradients= ['0.000', '0.000'] hessi_inv= [[ 0.75 -0.25], [-0.25  0.25]] delta= ['-0.000', '0.000']\n",
      "EPOCH 2 f=1.875 variables= ['-1.750', '-0.250']\n",
      "\t \tgradients= ['-0.000', '0.000'] hessi_inv= [[ 0.75 -0.25], [-0.25  0.25]] delta= ['0.000', '-0.000']\n",
      "FINAL   f=1.875 variables= ['-1.750', '-0.250']\n"
     ]
    }
   ],
   "source": [
    "sess = tf.InteractiveSession()\n",
    "\n",
    "vs = tf.Variable(initial)\n",
    "f = vs[0]**2 + 2.0*vs[0]*vs[1] + 3.0*vs[1]**2 + 4.0*vs[0] + 5.0*vs[1] + 6.0\n",
    "sess.run(tf.global_variables_initializer())\n",
    "\n",
    "for e in range(3):\n",
    "    print('EPOCH', e, 'f=%.3f'%f.eval(), 'variables=', ['%.3f'%v for v in vs.eval()])\n",
    "    \n",
    "    grads = tf.gradients(f, vs)[0]\n",
    "    hessi = tf.hessians(f, vs)[0]\n",
    "    hessi_inv = tf.matrix_inverse(hessi)\n",
    "    delta = - tf.reshape( tf.matmul(hessi_inv, tf.reshape(grads, [-1, 1])), [2] )\n",
    "    print('\\t \\tgradients=', ['%.3f'%g for g in grads.eval()],\n",
    "          'hessi_inv=', ('%s'%hessi_inv.eval()).replace('\\n', ','),\n",
    "          'delta=', ['%.3f'%d for d in delta.eval()])\n",
    "\n",
    "    op = vs.assign( vs + delta )\n",
    "    op.eval()\n",
    "\n",
    "print('FINAL  ', 'f=%.3f'%f.eval(), 'variables=', ['%.3f'%v for v in vs.eval()])\n",
    "sess.close()"
   ]
  },
  {
   "cell_type": "markdown",
   "metadata": {},
   "source": [
    "## Second-order Minimization self implemented Hessian"
   ]
  },
  {
   "cell_type": "code",
   "execution_count": 4,
   "metadata": {},
   "outputs": [],
   "source": [
    "from functools import reduce\n",
    "from tensorflow.python.ops import gradients_impl\n",
    "from tensorflow.python.ops import array_ops, tensor_array_ops, control_flow_ops\n",
    "\n",
    "def hessians_highrank(ys, xs, gradients=None, name=\"hessians\", colocate_gradients_with_ops=False,\n",
    "            gate_gradients=False, aggregation_method=None):\n",
    "  \"\"\"Constructs the Hessian (one or more rank matrix) of sum of `ys` with respect to `x` in `xs`.\n",
    "  `hessians_highrank()` adds ops to the graph to output the Hessian matrix of `ys`\n",
    "  with respect to `xs`.  It returns a list of `Tensor` of length `len(xs)`\n",
    "  where each tensor is the Hessian of `sum(ys)`. This function currently\n",
    "  only supports evaluating the Hessian with respect to (a list of) one-\n",
    "  dimensional tensors.\n",
    "  The Hessian is a matrix of second-order partial derivatives of a scalar\n",
    "  tensor (see https://en.wikipedia.org/wiki/Hessian_matrix for more details).\n",
    "  Args:\n",
    "    ys: A `Tensor` or list of tensors to be differentiated.\n",
    "    xs: A `Tensor` or list of tensors to be used for differentiation.\n",
    "    name: Optional name to use for grouping all the gradient ops together.\n",
    "      defaults to 'hessians'.\n",
    "    colocate_gradients_with_ops: See `gradients()` documentation for details.\n",
    "    gate_gradients: See `gradients()` documentation for details.\n",
    "    aggregation_method: See `gradients()` documentation for details.\n",
    "  Returns:\n",
    "    A list of Hessian matrices of `sum(ys)` for each `x` in `xs`.\n",
    "  Raises:\n",
    "    LookupError: if one of the operations between `xs` and `ys` does not\n",
    "      have a registered gradient function.\n",
    "  \"\"\"\n",
    "  xs = gradients_impl._AsList(xs)\n",
    "  kwargs = {\n",
    "    'colocate_gradients_with_ops': colocate_gradients_with_ops,\n",
    "    'gate_gradients': gate_gradients,\n",
    "    'aggregation_method': aggregation_method\n",
    "  }\n",
    "  # Compute first-order derivatives and iterate for each x in xs.\n",
    "  hessians = []\n",
    "  _gradients = tf.gradients(ys, xs, **kwargs) if gradients is None else gradients\n",
    "  for i, _gradient, x in zip(range(len(xs)), _gradients, xs):\n",
    "    shape = x.shape\n",
    "    _gradient = tf.reshape(_gradient, [-1])\n",
    "    \n",
    "    n = tf.size(x)\n",
    "    loop_vars = [\n",
    "      array_ops.constant(0, tf.int32),\n",
    "      tensor_array_ops.TensorArray(x.dtype, n)\n",
    "    ]\n",
    "    _, hessian = control_flow_ops.while_loop(\n",
    "      lambda j, _: j < n,\n",
    "      lambda j, result: (j + 1, result.write(j, tf.gradients(_gradient[j], x, **kwargs)[0])),\n",
    "      loop_vars\n",
    "    )\n",
    "    hessians.append(hessian.stack())\n",
    "  return hessians"
   ]
  },
  {
   "cell_type": "code",
   "execution_count": 5,
   "metadata": {},
   "outputs": [
    {
     "name": "stdout",
     "output_type": "stream",
     "text": [
      "EPOCH 0 f=11.267 variables= ['0.926', '0.099']\n",
      "\t \tgradients= ['6.049', '7.446'] hessi_inv= [[ 0.75 -0.25], [-0.25  0.25]] delta= ['-2.676', '-0.349']\n",
      "EPOCH 1 f=1.875 variables= ['-1.750', '-0.250']\n",
      "\t \tgradients= ['0.000', '0.000'] hessi_inv= [[ 0.75 -0.25], [-0.25  0.25]] delta= ['-0.000', '0.000']\n",
      "EPOCH 2 f=1.875 variables= ['-1.750', '-0.250']\n",
      "\t \tgradients= ['-0.000', '0.000'] hessi_inv= [[ 0.75 -0.25], [-0.25  0.25]] delta= ['0.000', '-0.000']\n",
      "FINAL   f=1.875 variables= ['-1.750', '-0.250']\n"
     ]
    }
   ],
   "source": [
    "sess = tf.InteractiveSession()\n",
    "\n",
    "vs = tf.Variable(initial)\n",
    "f = vs[0]**2 + 2.0*vs[0]*vs[1] + 3.0*vs[1]**2 + 4.0*vs[0] + 5.0*vs[1] + 6.0\n",
    "sess.run(tf.global_variables_initializer())\n",
    "\n",
    "for e in range(3):\n",
    "    print('EPOCH', e, 'f=%.3f'%f.eval(), 'variables=', ['%.3f'%v for v in vs.eval()])\n",
    "    \n",
    "    grads = tf.gradients(f, vs)[0]\n",
    "    hessi = hessians_highrank(f, vs)[0]\n",
    "    hessi_inv = tf.matrix_inverse(hessi)\n",
    "    delta = - tf.reshape( tf.matmul(hessi_inv, tf.reshape(grads, [-1, 1])), [2] )\n",
    "    print('\\t \\tgradients=', ['%.3f'%g for g in grads.eval()],\n",
    "          'hessi_inv=', ('%s'%hessi_inv.eval()).replace('\\n', ','),\n",
    "          'delta=', ['%.3f'%d for d in delta.eval()])\n",
    "\n",
    "    op = vs.assign( vs + delta )\n",
    "    op.eval()\n",
    "\n",
    "print('FINAL  ', 'f=%.3f'%f.eval(), 'variables=', ['%.3f'%v for v in vs.eval()])\n",
    "sess.close()"
   ]
  },
  {
   "cell_type": "markdown",
   "metadata": {},
   "source": [
    "## Second-order Minimization self implemented Diagonal Hessian"
   ]
  },
  {
   "cell_type": "markdown",
   "metadata": {},
   "source": [
    "### brute force"
   ]
  },
  {
   "cell_type": "code",
   "execution_count": 12,
   "metadata": {},
   "outputs": [
    {
     "name": "stdout",
     "output_type": "stream",
     "text": [
      "EPOCH 0 f=11.267 variables= ['0.926', '0.099']\n",
      "\t \tgradients= ['6.049', '7.446'] hessi_inv= [ 0.5         0.16666667] delta= ['-3.025', '-1.241']\n",
      "EPOCH 1 f=5.006 variables= ['-2.099', '-1.142']\n",
      "\t \tgradients= ['-2.482', '-6.049'] hessi_inv= [ 0.5         0.16666667] delta= ['1.241', '1.008']\n",
      "EPOCH 2 f=2.919 variables= ['-0.858', '-0.134']\n",
      "\t \tgradients= ['2.016', '2.482'] hessi_inv= [ 0.5         0.16666667] delta= ['-1.008', '-0.414']\n",
      "EPOCH 3 f=2.223 variables= ['-1.866', '-0.547']\n",
      "\t \tgradients= ['-0.827', '-2.016'] hessi_inv= [ 0.5         0.16666667] delta= ['0.414', '0.336']\n",
      "EPOCH 4 f=1.991 variables= ['-1.453', '-0.211']\n",
      "\t \tgradients= ['0.672', '0.827'] hessi_inv= [ 0.5         0.16666667] delta= ['-0.336', '-0.138']\n",
      "EPOCH 5 f=1.914 variables= ['-1.789', '-0.349']\n",
      "\t \tgradients= ['-0.276', '-0.672'] hessi_inv= [ 0.5         0.16666667] delta= ['0.138', '0.112']\n",
      "EPOCH 6 f=1.888 variables= ['-1.651', '-0.237']\n",
      "\t \tgradients= ['0.224', '0.276'] hessi_inv= [ 0.5         0.16666667] delta= ['-0.112', '-0.046']\n",
      "EPOCH 7 f=1.879 variables= ['-1.763', '-0.283']\n",
      "\t \tgradients= ['-0.092', '-0.224'] hessi_inv= [ 0.5         0.16666667] delta= ['0.046', '0.037']\n",
      "EPOCH 8 f=1.876 variables= ['-1.717', '-0.246']\n",
      "\t \tgradients= ['0.075', '0.092'] hessi_inv= [ 0.5         0.16666667] delta= ['-0.037', '-0.015']\n",
      "EPOCH 9 f=1.875 variables= ['-1.754', '-0.261']\n",
      "\t \tgradients= ['-0.031', '-0.075'] hessi_inv= [ 0.5         0.16666667] delta= ['0.015', '0.012']\n",
      "FINAL   f=1.875 variables= ['-1.739', '-0.249']\n"
     ]
    }
   ],
   "source": [
    "sess = tf.InteractiveSession()\n",
    "\n",
    "vs = tf.Variable(initial)\n",
    "f = vs[0]**2 + 2.0*vs[0]*vs[1] + 3.0*vs[1]**2 + 4.0*vs[0] + 5.0*vs[1] + 6.0\n",
    "sess.run(tf.global_variables_initializer())\n",
    "\n",
    "for e in range(10):\n",
    "    print('EPOCH', e, 'f=%.3f'%f.eval(), 'variables=', ['%.3f'%v for v in vs.eval()])\n",
    "    \n",
    "    grads = tf.gradients(f, vs)[0]\n",
    "    hessi = hessians_highrank(f, vs)[0] * tf.eye(2)\n",
    "    \n",
    "    hessi_inv = tf.matrix_inverse(hessi)\n",
    "    delta = - tf.reshape( tf.matmul(hessi_inv, tf.reshape(grads, [-1, 1])), [2] )\n",
    "    print('\\t \\tgradients=', ['%.3f'%g for g in grads.eval()],\n",
    "          'hessi_inv=', ('%s'%tf.diag_part(hessi_inv).eval()).replace('\\n', ','),\n",
    "          'delta=', ['%.3f'%d for d in delta.eval()])\n",
    "\n",
    "    op = vs.assign( vs + delta )\n",
    "    op.eval()\n",
    "\n",
    "print('FINAL  ', 'f=%.3f'%f.eval(), 'variables=', ['%.3f'%v for v in vs.eval()])\n",
    "sess.close()"
   ]
  },
  {
   "cell_type": "markdown",
   "metadata": {},
   "source": [
    "### optimized computational impl."
   ]
  },
  {
   "cell_type": "code",
   "execution_count": 13,
   "metadata": {},
   "outputs": [],
   "source": [
    "from functools import reduce\n",
    "from tensorflow.python.ops import gradients_impl\n",
    "from tensorflow.python.ops import array_ops, tensor_array_ops, control_flow_ops\n",
    "\n",
    "def invers_diagonal_hessians_highrank(ys, xs, gradients=None, name=\"hessians\", colocate_gradients_with_ops=False,\n",
    "            gate_gradients=False, aggregation_method=None):\n",
    "  \"\"\"Constructs the Hessian (one or more rank matrix) of sum of `ys` with respect to `x` in `xs`.\n",
    "  `hessians_highrank()` adds ops to the graph to output the Hessian matrix of `ys`\n",
    "  with respect to `xs`.  It returns a list of `Tensor` of length `len(xs)`\n",
    "  where each tensor is the Hessian of `sum(ys)`. This function currently\n",
    "  only supports evaluating the Hessian with respect to (a list of) one-\n",
    "  dimensional tensors.\n",
    "  The Hessian is a matrix of second-order partial derivatives of a scalar\n",
    "  tensor (see https://en.wikipedia.org/wiki/Hessian_matrix for more details).\n",
    "  Args:\n",
    "    ys: A `Tensor` or list of tensors to be differentiated.\n",
    "    xs: A `Tensor` or list of tensors to be used for differentiation.\n",
    "    name: Optional name to use for grouping all the gradient ops together.\n",
    "      defaults to 'hessians'.\n",
    "    colocate_gradients_with_ops: See `gradients()` documentation for details.\n",
    "    gate_gradients: See `gradients()` documentation for details.\n",
    "    aggregation_method: See `gradients()` documentation for details.\n",
    "  Returns:\n",
    "    A list of Hessian matrices of `sum(ys)` for each `x` in `xs`.\n",
    "  Raises:\n",
    "    LookupError: if one of the operations between `xs` and `ys` does not\n",
    "      have a registered gradient function.\n",
    "  \"\"\"\n",
    "  xs = gradients_impl._AsList(xs)\n",
    "  kwargs = {\n",
    "    'colocate_gradients_with_ops': colocate_gradients_with_ops,\n",
    "    'gate_gradients': gate_gradients,\n",
    "    'aggregation_method': aggregation_method\n",
    "  }\n",
    "  # Compute first-order derivatives and iterate for each x in xs.\n",
    "  hessians = []\n",
    "  _gradients = tf.gradients(ys, xs, **kwargs) if gradients is None else gradients\n",
    "  for i, _gradient, x in zip(range(len(xs)), _gradients, xs):\n",
    "    shape = x.shape\n",
    "    _gradient = tf.reshape(_gradient, [-1])\n",
    "    \n",
    "    n = tf.size(x)\n",
    "    g = tf.gradients(_gradient, x)[0]\n",
    "    hessian = tf.diag( 1.0 / (tf.reshape(g, [-1]) + 1e-8) )\n",
    "    hessians.append(hessian)\n",
    "  return hessians"
   ]
  },
  {
   "cell_type": "code",
   "execution_count": 14,
   "metadata": {},
   "outputs": [
    {
     "name": "stdout",
     "output_type": "stream",
     "text": [
      "EPOCH 0 f=11.267 variables= ['0.926', '0.099']\n",
      "\t \tgradients= ['6.049', '7.446'] hessi_inv= [ 0.25   0.125] delta= ['-1.512', '-0.931']\n",
      "EPOCH 1 f=2.890 variables= ['-0.587', '-0.832']\n",
      "\t \tgradients= ['1.163', '-1.163'] hessi_inv= [ 0.25   0.125] delta= ['-0.291', '0.145']\n",
      "EPOCH 2 f=2.446 variables= ['-0.878', '-0.686']\n",
      "\t \tgradients= ['0.872', '-0.872'] hessi_inv= [ 0.25   0.125] delta= ['-0.218', '0.109']\n",
      "EPOCH 3 f=2.196 variables= ['-1.096', '-0.577']\n",
      "\t \tgradients= ['0.654', '-0.654'] hessi_inv= [ 0.25   0.125] delta= ['-0.164', '0.082']\n",
      "EPOCH 4 f=2.056 variables= ['-1.259', '-0.495']\n",
      "\t \tgradients= ['0.491', '-0.491'] hessi_inv= [ 0.25   0.125] delta= ['-0.123', '0.061']\n",
      "EPOCH 5 f=1.977 variables= ['-1.382', '-0.434']\n",
      "\t \tgradients= ['0.368', '-0.368'] hessi_inv= [ 0.25   0.125] delta= ['-0.092', '0.046']\n",
      "EPOCH 6 f=1.932 variables= ['-1.474', '-0.388']\n",
      "\t \tgradients= ['0.276', '-0.276'] hessi_inv= [ 0.25   0.125] delta= ['-0.069', '0.035']\n",
      "EPOCH 7 f=1.907 variables= ['-1.543', '-0.354']\n",
      "\t \tgradients= ['0.207', '-0.207'] hessi_inv= [ 0.25   0.125] delta= ['-0.052', '0.026']\n",
      "EPOCH 8 f=1.893 variables= ['-1.595', '-0.328']\n",
      "\t \tgradients= ['0.155', '-0.155'] hessi_inv= [ 0.25   0.125] delta= ['-0.039', '0.019']\n",
      "EPOCH 9 f=1.885 variables= ['-1.634', '-0.308']\n",
      "\t \tgradients= ['0.116', '-0.116'] hessi_inv= [ 0.25   0.125] delta= ['-0.029', '0.015']\n",
      "FINAL   f=1.881 variables= ['-1.663', '-0.294']\n"
     ]
    }
   ],
   "source": [
    "sess = tf.InteractiveSession()\n",
    "\n",
    "vs = tf.Variable(initial)\n",
    "f = vs[0]**2 + 2.0*vs[0]*vs[1] + 3.0*vs[1]**2 + 4.0*vs[0] + 5.0*vs[1] + 6.0\n",
    "sess.run(tf.global_variables_initializer())\n",
    "\n",
    "for e in range(10):\n",
    "    print('EPOCH', e, 'f=%.3f'%f.eval(), 'variables=', ['%.3f'%v for v in vs.eval()])\n",
    "    \n",
    "    grads = tf.gradients(f, vs)[0]\n",
    "    hessi_inv = invers_diagonal_hessians_highrank(f, vs)[0]\n",
    "    \n",
    "    delta = - tf.reshape( tf.matmul(hessi_inv, tf.reshape(grads, [-1, 1])), [2] )\n",
    "    print('\\t \\tgradients=', ['%.3f'%g for g in grads.eval()],\n",
    "          'hessi_inv=', ('%s'%tf.diag_part(hessi_inv).eval()).replace('\\n', ','),\n",
    "          'delta=', ['%.3f'%d for d in delta.eval()])\n",
    "\n",
    "    op = vs.assign( vs + delta )\n",
    "    op.eval()\n",
    "\n",
    "print('FINAL  ', 'f=%.3f'%f.eval(), 'variables=', ['%.3f'%v for v in vs.eval()])\n",
    "sess.close()"
   ]
  },
  {
   "cell_type": "code",
   "execution_count": null,
   "metadata": {},
   "outputs": [],
   "source": [
    "\n"
   ]
  },
  {
   "cell_type": "code",
   "execution_count": null,
   "metadata": {},
   "outputs": [],
   "source": []
  }
 ],
 "metadata": {
  "kernelspec": {
   "display_name": "Python 3",
   "language": "python",
   "name": "python3"
  },
  "language_info": {
   "codemirror_mode": {
    "name": "ipython",
    "version": 3
   },
   "file_extension": ".py",
   "mimetype": "text/x-python",
   "name": "python",
   "nbconvert_exporter": "python",
   "pygments_lexer": "ipython3",
   "version": "3.5.2"
  }
 },
 "nbformat": 4,
 "nbformat_minor": 2
}
