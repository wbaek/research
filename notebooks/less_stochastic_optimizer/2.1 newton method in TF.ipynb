{
 "cells": [
  {
   "cell_type": "code",
   "execution_count": 1,
   "metadata": {},
   "outputs": [],
   "source": [
    "import numpy as np\n",
    "import tensorflow as tf\n",
    "\n",
    "initial = [np.random.random_sample(), np.random.random_sample()]"
   ]
  },
  {
   "cell_type": "markdown",
   "metadata": {},
   "source": [
    "## First-order Minimization"
   ]
  },
  {
   "cell_type": "code",
   "execution_count": 2,
   "metadata": {},
   "outputs": [
    {
     "name": "stdout",
     "output_type": "stream",
     "text": [
<<<<<<< HEAD
      "EPOCH 0 f=10.224 variables= ['0.468', '0.311']\n",
      "\t \tgradients= ['5.557', '7.800'] delta= ['-1.111', '-1.560']\n",
      "EPOCH 1 f=3.884 variables= ['-0.644', '-1.249']\n",
      "\t \tgradients= ['0.214', '-3.783'] delta= ['-0.043', '0.757']\n",
      "EPOCH 2 f=2.667 variables= ['-0.686', '-0.493']\n",
      "\t \tgradients= ['1.642', '0.671'] delta= ['-0.328', '-0.134']\n",
      "EPOCH 3 f=2.287 variables= ['-1.015', '-0.627']\n",
      "\t \tgradients= ['0.717', '-0.791'] delta= ['-0.143', '0.158']\n",
      "EPOCH 4 f=2.110 variables= ['-1.158', '-0.469']\n",
      "\t \tgradients= ['0.746', '-0.128'] delta= ['-0.149', '0.026']\n",
      "EPOCH 5 f=2.012 variables= ['-1.307', '-0.443']\n",
      "\t \tgradients= ['0.499', '-0.273'] delta= ['-0.100', '0.055']\n",
      "EPOCH 6 f=1.955 variables= ['-1.407', '-0.388']\n",
      "\t \tgradients= ['0.409', '-0.145'] delta= ['-0.082', '0.029']\n",
      "EPOCH 7 f=1.922 variables= ['-1.489', '-0.359']\n",
      "\t \tgradients= ['0.303', '-0.134'] delta= ['-0.061', '0.027']\n",
      "EPOCH 8 f=1.903 variables= ['-1.550', '-0.333']\n",
      "\t \tgradients= ['0.236', '-0.094'] delta= ['-0.047', '0.019']\n",
      "EPOCH 9 f=1.891 variables= ['-1.597', '-0.314']\n",
      "\t \tgradients= ['0.179', '-0.075'] delta= ['-0.036', '0.015']\n",
      "FINAL   f=1.884 variables= ['-1.633', '-0.299']\n"
=======
      "EPOCH 0 f=14.509 variables= ['0.219', '0.924']\n",
      "\t \tgradients= ['6.286', '10.981'] delta= ['-1.257', '-2.196']\n",
      "EPOCH 1 f=4.062 variables= ['-1.038', '-1.272']\n",
      "\t \tgradients= ['-0.621', '-4.711'] delta= ['0.124', '0.942']\n",
      "EPOCH 2 f=2.459 variables= ['-0.914', '-0.330']\n",
      "\t \tgradients= ['1.512', '1.190'] delta= ['-0.302', '-0.238']\n",
      "EPOCH 3 f=2.124 variables= ['-1.216', '-0.568']\n",
      "\t \tgradients= ['0.431', '-0.843'] delta= ['-0.086', '0.169']\n",
      "EPOCH 4 f=2.009 variables= ['-1.302', '-0.400']\n",
      "\t \tgradients= ['0.596', '-0.004'] delta= ['-0.119', '0.001']\n",
      "EPOCH 5 f=1.952 variables= ['-1.421', '-0.399']\n",
      "\t \tgradients= ['0.359', '-0.237'] delta= ['-0.072', '0.047']\n",
      "EPOCH 6 f=1.920 variables= ['-1.493', '-0.352']\n",
      "\t \tgradients= ['0.310', '-0.096'] delta= ['-0.062', '0.019']\n",
      "EPOCH 7 f=1.901 variables= ['-1.555', '-0.332']\n",
      "\t \tgradients= ['0.225', '-0.105'] delta= ['-0.045', '0.021']\n",
      "EPOCH 8 f=1.890 variables= ['-1.600', '-0.311']\n",
      "\t \tgradients= ['0.177', '-0.069'] delta= ['-0.035', '0.014']\n",
      "EPOCH 9 f=1.884 variables= ['-1.636', '-0.298']\n",
      "\t \tgradients= ['0.134', '-0.057'] delta= ['-0.027', '0.011']\n",
      "FINAL   f=1.880 variables= ['-1.662', '-0.286']\n"
>>>>>>> 5954167f2945c1c5d64c124e32c800c5a389dd79
     ]
    }
   ],
   "source": [
    "sess = tf.InteractiveSession()\n",
    "\n",
    "vs = tf.Variable(initial, dtype='float32')\n",
    "f = vs[0]**2 + 2.0*vs[0]*vs[1] + 3.0*vs[1]**2 + 4.0*vs[0] + 5.0*vs[1] + 6.0\n",
    "sess.run(tf.global_variables_initializer())\n",
    "\n",
    "learning_rate = 0.2\n",
    "for e in range(10):\n",
    "    print('EPOCH', e, 'f=%.3f'%f.eval(), 'variables=', ['%.3f'%v for v in vs.eval()])\n",
    "    \n",
    "    grads = tf.gradients(f, vs)[0]\n",
    "    delta = - grads*learning_rate\n",
    "    print('\\t \\tgradients=', ['%.3f'%g for g in grads.eval()],\n",
    "          'delta=', ['%.3f'%d for d in delta.eval()])\n",
    "    op = vs.assign( vs + delta )\n",
    "    op.eval()\n",
    "\n",
    "print('FINAL  ', 'f=%.3f'%f.eval(), 'variables=', ['%.3f'%v for v in vs.eval()])\n",
    "sess.close()"
   ]
  },
  {
   "cell_type": "markdown",
   "metadata": {},
   "source": [
    "## Second-order Minimization"
   ]
  },
  {
   "cell_type": "code",
   "execution_count": 3,
   "metadata": {},
   "outputs": [
    {
     "name": "stdout",
     "output_type": "stream",
     "text": [
<<<<<<< HEAD
      "EPOCH 0 f=10.224 variables= ['0.468', '0.311']\n",
      "\t \tgradients= ['5.557', '7.800'] hessi_inv= [[ 0.75 -0.25], [-0.25  0.25]] delta= ['-2.218', '-0.561']\n",
      "EPOCH 1 f=1.875 variables= ['-1.750', '-0.250']\n",
      "\t \tgradients= ['-0.000', '-0.000'] hessi_inv= [[ 0.75 -0.25], [-0.25  0.25]] delta= ['0.000', '-0.000']\n",
      "EPOCH 2 f=1.875 variables= ['-1.750', '-0.250']\n",
      "\t \tgradients= ['0.000', '0.000'] hessi_inv= [[ 0.75 -0.25], [-0.25  0.25]] delta= ['-0.000', '-0.000']\n",
=======
      "EPOCH 0 f=14.509 variables= ['0.219', '0.924']\n",
      "\t \tgradients= ['6.286', '10.981'] hessi_inv= [[ 0.75 -0.25], [-0.25  0.25]] delta= ['-1.969', '-1.174']\n",
      "EPOCH 1 f=1.875 variables= ['-1.750', '-0.250']\n",
      "\t \tgradients= ['0.000', '0.000'] hessi_inv= [[ 0.75 -0.25], [-0.25  0.25]] delta= ['0.000', '-0.000']\n",
      "EPOCH 2 f=1.875 variables= ['-1.750', '-0.250']\n",
      "\t \tgradients= ['0.000', '0.000'] hessi_inv= [[ 0.75 -0.25], [-0.25  0.25]] delta= ['-0.000', '0.000']\n",
>>>>>>> 5954167f2945c1c5d64c124e32c800c5a389dd79
      "FINAL   f=1.875 variables= ['-1.750', '-0.250']\n"
     ]
    }
   ],
   "source": [
    "sess = tf.InteractiveSession()\n",
    "\n",
    "vs = tf.Variable(initial)\n",
    "f = vs[0]**2 + 2.0*vs[0]*vs[1] + 3.0*vs[1]**2 + 4.0*vs[0] + 5.0*vs[1] + 6.0\n",
    "sess.run(tf.global_variables_initializer())\n",
    "\n",
    "for e in range(3):\n",
    "    print('EPOCH', e, 'f=%.3f'%f.eval(), 'variables=', ['%.3f'%v for v in vs.eval()])\n",
    "    \n",
    "    grads = tf.gradients(f, vs)[0]\n",
    "    hessi = tf.hessians(f, vs)[0]\n",
    "    hessi_inv = tf.matrix_inverse(hessi)\n",
    "    delta = - tf.reshape( tf.matmul(hessi_inv, tf.reshape(grads, [-1, 1])), [2] )\n",
    "    print('\\t \\tgradients=', ['%.3f'%g for g in grads.eval()],\n",
    "          'hessi_inv=', ('%s'%hessi_inv.eval()).replace('\\n', ','),\n",
    "          'delta=', ['%.3f'%d for d in delta.eval()])\n",
    "\n",
    "    op = vs.assign( vs + delta )\n",
    "    op.eval()\n",
    "\n",
    "print('FINAL  ', 'f=%.3f'%f.eval(), 'variables=', ['%.3f'%v for v in vs.eval()])\n",
    "sess.close()"
   ]
  },
  {
   "cell_type": "markdown",
   "metadata": {},
   "source": [
    "## Second-order Minimization self implemented Hessian"
   ]
  },
  {
   "cell_type": "code",
   "execution_count": 4,
   "metadata": {
    "collapsed": true
   },
   "outputs": [],
   "source": [
    "from functools import reduce\n",
    "from tensorflow.python.ops import gradients_impl\n",
    "from tensorflow.python.ops import array_ops, tensor_array_ops, control_flow_ops\n",
    "\n",
    "def hessians_highrank(ys, xs, gradients=None, name=\"hessians\", colocate_gradients_with_ops=False,\n",
    "            gate_gradients=False, aggregation_method=None):\n",
    "  \"\"\"Constructs the Hessian (one or more rank matrix) of sum of `ys` with respect to `x` in `xs`.\n",
    "  `hessians_highrank()` adds ops to the graph to output the Hessian matrix of `ys`\n",
    "  with respect to `xs`.  It returns a list of `Tensor` of length `len(xs)`\n",
    "  where each tensor is the Hessian of `sum(ys)`. This function currently\n",
    "  only supports evaluating the Hessian with respect to (a list of) one-\n",
    "  dimensional tensors.\n",
    "  The Hessian is a matrix of second-order partial derivatives of a scalar\n",
    "  tensor (see https://en.wikipedia.org/wiki/Hessian_matrix for more details).\n",
    "  Args:\n",
    "    ys: A `Tensor` or list of tensors to be differentiated.\n",
    "    xs: A `Tensor` or list of tensors to be used for differentiation.\n",
    "    name: Optional name to use for grouping all the gradient ops together.\n",
    "      defaults to 'hessians'.\n",
    "    colocate_gradients_with_ops: See `gradients()` documentation for details.\n",
    "    gate_gradients: See `gradients()` documentation for details.\n",
    "    aggregation_method: See `gradients()` documentation for details.\n",
    "  Returns:\n",
    "    A list of Hessian matrices of `sum(ys)` for each `x` in `xs`.\n",
    "  Raises:\n",
    "    LookupError: if one of the operations between `xs` and `ys` does not\n",
    "      have a registered gradient function.\n",
    "  \"\"\"\n",
    "  xs = gradients_impl._AsList(xs)\n",
    "  kwargs = {\n",
    "    'colocate_gradients_with_ops': colocate_gradients_with_ops,\n",
    "    'gate_gradients': gate_gradients,\n",
    "    'aggregation_method': aggregation_method\n",
    "  }\n",
    "  # Compute first-order derivatives and iterate for each x in xs.\n",
    "  hessians = []\n",
    "  _gradients = tf.gradients(ys, xs, **kwargs) if gradients is None else gradients\n",
    "  for i, _gradient, x in zip(range(len(xs)), _gradients, xs):\n",
    "    shape = x.shape\n",
    "    _gradient = tf.reshape(_gradient, [-1])\n",
    "    \n",
    "    n = tf.size(x)\n",
    "    loop_vars = [\n",
    "      array_ops.constant(0, tf.int32),\n",
    "      tensor_array_ops.TensorArray(x.dtype, n)\n",
    "    ]\n",
    "    _, hessian = control_flow_ops.while_loop(\n",
    "      lambda j, _: j < n,\n",
    "      lambda j, result: (j + 1, result.write(j, tf.gradients(_gradient[j], x, **kwargs)[0])),\n",
    "      loop_vars\n",
    "    )\n",
    "    hessians.append(hessian.stack())\n",
    "  return hessians"
   ]
  },
  {
   "cell_type": "code",
   "execution_count": 5,
   "metadata": {},
   "outputs": [
    {
     "name": "stdout",
     "output_type": "stream",
     "text": [
<<<<<<< HEAD
      "EPOCH 0 f=10.224 variables= ['0.468', '0.311']\n",
      "\t \tgradients= ['5.557', '7.800'] hessi_inv= [[ 0.75 -0.25], [-0.25  0.25]] delta= ['-2.218', '-0.561']\n",
      "EPOCH 1 f=1.875 variables= ['-1.750', '-0.250']\n",
      "\t \tgradients= ['-0.000', '-0.000'] hessi_inv= [[ 0.75 -0.25], [-0.25  0.25]] delta= ['0.000', '-0.000']\n",
      "EPOCH 2 f=1.875 variables= ['-1.750', '-0.250']\n",
      "\t \tgradients= ['0.000', '0.000'] hessi_inv= [[ 0.75 -0.25], [-0.25  0.25]] delta= ['-0.000', '-0.000']\n",
=======
      "EPOCH 0 f=14.509 variables= ['0.219', '0.924']\n",
      "\t \tgradients= ['6.286', '10.981'] hessi_inv= [[ 0.75 -0.25], [-0.25  0.25]] delta= ['-1.969', '-1.174']\n",
      "EPOCH 1 f=1.875 variables= ['-1.750', '-0.250']\n",
      "\t \tgradients= ['0.000', '0.000'] hessi_inv= [[ 0.75 -0.25], [-0.25  0.25]] delta= ['0.000', '-0.000']\n",
      "EPOCH 2 f=1.875 variables= ['-1.750', '-0.250']\n",
      "\t \tgradients= ['0.000', '0.000'] hessi_inv= [[ 0.75 -0.25], [-0.25  0.25]] delta= ['-0.000', '0.000']\n",
>>>>>>> 5954167f2945c1c5d64c124e32c800c5a389dd79
      "FINAL   f=1.875 variables= ['-1.750', '-0.250']\n"
     ]
    }
   ],
   "source": [
    "sess = tf.InteractiveSession()\n",
    "\n",
    "vs = tf.Variable(initial)\n",
    "f = vs[0]**2 + 2.0*vs[0]*vs[1] + 3.0*vs[1]**2 + 4.0*vs[0] + 5.0*vs[1] + 6.0\n",
    "sess.run(tf.global_variables_initializer())\n",
    "\n",
    "for e in range(3):\n",
    "    print('EPOCH', e, 'f=%.3f'%f.eval(), 'variables=', ['%.3f'%v for v in vs.eval()])\n",
    "    \n",
    "    grads = tf.gradients(f, vs)[0]\n",
    "    hessi = hessians_highrank(f, vs)[0]\n",
    "    hessi_inv = tf.matrix_inverse(hessi)\n",
    "    delta = - tf.reshape( tf.matmul(hessi_inv, tf.reshape(grads, [-1, 1])), [2] )\n",
    "    print('\\t \\tgradients=', ['%.3f'%g for g in grads.eval()],\n",
    "          'hessi_inv=', ('%s'%hessi_inv.eval()).replace('\\n', ','),\n",
    "          'delta=', ['%.3f'%d for d in delta.eval()])\n",
    "\n",
    "    op = vs.assign( vs + delta )\n",
    "    op.eval()\n",
    "\n",
    "print('FINAL  ', 'f=%.3f'%f.eval(), 'variables=', ['%.3f'%v for v in vs.eval()])\n",
    "sess.close()"
   ]
  },
  {
   "cell_type": "markdown",
   "metadata": {},
   "source": [
    "## Second-order Minimization self implemented Diagonal Hessian"
   ]
  },
  {
   "cell_type": "markdown",
   "metadata": {},
   "source": [
    "### brute force"
   ]
  },
  {
   "cell_type": "code",
   "execution_count": 18,
   "metadata": {},
   "outputs": [
    {
     "name": "stdout",
     "output_type": "stream",
     "text": [
<<<<<<< HEAD
      "EPOCH 0 f=10.224 variables= ['0.468', '0.311']\n",
      "\t \tgradients= ['5.557', '7.800'] hessi_inv= [[ 0.50.  ], [ 0. 0.16666667]] delta= ['-2.779', '-1.300']\n",
      "EPOCH 1 f=4.658 variables= ['-2.311', '-0.989']\n",
      "\t \tgradients= ['-2.600', '-5.557'] hessi_inv= [[ 0.50.  ], [ 0. 0.16666667]] delta= ['1.300', '0.926']\n",
      "EPOCH 2 f=2.803 variables= ['-1.011', '-0.063']\n",
      "\t \tgradients= ['1.852', '2.600'] hessi_inv= [[ 0.50.  ], [ 0. 0.16666667]] delta= ['-0.926', '-0.433']\n",
      "EPOCH 3 f=2.184 variables= ['-1.937', '-0.496']\n",
      "\t \tgradients= ['-0.867', '-1.852'] hessi_inv= [[ 0.50.  ], [ 0. 0.16666667]] delta= ['0.433', '0.309']\n",
      "EPOCH 4 f=1.978 variables= ['-1.504', '-0.188']\n",
      "\t \tgradients= ['0.617', '0.867'] hessi_inv= [[ 0.50.  ], [ 0. 0.16666667]] delta= ['-0.309', '-0.144']\n",
      "EPOCH 5 f=1.909 variables= ['-1.812', '-0.332']\n",
      "\t \tgradients= ['-0.289', '-0.617'] hessi_inv= [[ 0.50.  ], [ 0. 0.16666667]] delta= ['0.144', '0.103']\n",
      "EPOCH 6 f=1.886 variables= ['-1.668', '-0.229']\n",
      "\t \tgradients= ['0.206', '0.289'] hessi_inv= [[ 0.50.  ], [ 0. 0.16666667]] delta= ['-0.103', '-0.048']\n",
      "EPOCH 7 f=1.879 variables= ['-1.771', '-0.277']\n",
      "\t \tgradients= ['-0.096', '-0.206'] hessi_inv= [[ 0.50.  ], [ 0. 0.16666667]] delta= ['0.048', '0.034']\n",
      "EPOCH 8 f=1.876 variables= ['-1.723', '-0.243']\n",
      "\t \tgradients= ['0.069', '0.096'] hessi_inv= [[ 0.50.  ], [ 0. 0.16666667]] delta= ['-0.034', '-0.016']\n",
      "EPOCH 9 f=1.875 variables= ['-1.757', '-0.259']\n",
      "\t \tgradients= ['-0.032', '-0.069'] hessi_inv= [[ 0.50.  ], [ 0. 0.16666667]] delta= ['0.016', '0.011']\n",
      "FINAL   f=1.875 variables= ['-1.741', '-0.248']\n"
=======
      "EPOCH 0 f=14.509 variables= ['0.219', '0.924']\n",
      "\t \tgradients= ['6.286', '10.981'] hessi_inv= [[ 0.50.  ], [ 0. 0.16666667]] delta= ['-3.143', '-1.830']\n",
      "EPOCH 1 f=6.086 variables= ['-2.924', '-0.906']\n",
      "\t \tgradients= ['-3.660', '-6.286'] hessi_inv= [[ 0.50.  ], [ 0. 0.16666667]] delta= ['1.830', '1.048']\n",
      "EPOCH 2 f=3.279 variables= ['-1.094', '0.141']\n",
      "\t \tgradients= ['2.095', '3.660'] hessi_inv= [[ 0.50.  ], [ 0. 0.16666667]] delta= ['-1.048', '-0.610']\n",
      "EPOCH 3 f=2.343 variables= ['-2.141', '-0.469']\n",
      "\t \tgradients= ['-1.220', '-2.095'] hessi_inv= [[ 0.50.  ], [ 0. 0.16666667]] delta= ['0.610', '0.349']\n",
      "EPOCH 4 f=2.031 variables= ['-1.531', '-0.120']\n",
      "\t \tgradients= ['0.698', '1.220'] hessi_inv= [[ 0.50.  ], [ 0. 0.16666667]] delta= ['-0.349', '-0.203']\n",
      "EPOCH 5 f=1.927 variables= ['-1.880', '-0.323']\n",
      "\t \tgradients= ['-0.407', '-0.698'] hessi_inv= [[ 0.50.  ], [ 0. 0.16666667]] delta= ['0.203', '0.116']\n",
      "EPOCH 6 f=1.892 variables= ['-1.677', '-0.207']\n",
      "\t \tgradients= ['0.233', '0.407'] hessi_inv= [[ 0.50.  ], [ 0. 0.16666667]] delta= ['-0.116', '-0.068']\n",
      "EPOCH 7 f=1.881 variables= ['-1.793', '-0.274']\n",
      "\t \tgradients= ['-0.136', '-0.233'] hessi_inv= [[ 0.50.  ], [ 0. 0.16666667]] delta= ['0.068', '0.039']\n",
      "EPOCH 8 f=1.877 variables= ['-1.726', '-0.236']\n",
      "\t \tgradients= ['0.078', '0.136'] hessi_inv= [[ 0.50.  ], [ 0. 0.16666667]] delta= ['-0.039', '-0.023']\n",
      "EPOCH 9 f=1.876 variables= ['-1.764', '-0.258']\n",
      "\t \tgradients= ['-0.045', '-0.078'] hessi_inv= [[ 0.50.  ], [ 0. 0.16666667]] delta= ['0.023', '0.013']\n",
      "FINAL   f=1.875 variables= ['-1.742', '-0.245']\n"
>>>>>>> 5954167f2945c1c5d64c124e32c800c5a389dd79
     ]
    }
   ],
   "source": [
    "sess = tf.InteractiveSession()\n",
    "\n",
    "vs = tf.Variable(initial)\n",
    "f = vs[0]**2 + 2.0*vs[0]*vs[1] + 3.0*vs[1]**2 + 4.0*vs[0] + 5.0*vs[1] + 6.0\n",
    "sess.run(tf.global_variables_initializer())\n",
    "\n",
    "for e in range(10):\n",
    "    print('EPOCH', e, 'f=%.3f'%f.eval(), 'variables=', ['%.3f'%v for v in vs.eval()])\n",
    "    \n",
    "    grads = tf.gradients(f, vs)[0]\n",
    "    hessi = hessians_highrank(f, vs)[0] * tf.eye(2)\n",
    "    \n",
    "    hessi_inv = tf.matrix_inverse(hessi)\n",
    "    delta = - tf.reshape( tf.matmul(hessi_inv, tf.reshape(grads, [-1, 1])), [2] )\n",
    "    print('\\t \\tgradients=', ['%.3f'%g for g in grads.eval()],\n",
    "          'hessi_inv=', ('%s'%hessi_inv.eval()).replace('   ', '').replace('\\n', ','),\n",
    "          'delta=', ['%.3f'%d for d in delta.eval()])\n",
    "\n",
    "    op = vs.assign( vs + delta )\n",
    "    op.eval()\n",
    "\n",
    "print('FINAL  ', 'f=%.3f'%f.eval(), 'variables=', ['%.3f'%v for v in vs.eval()])\n",
    "sess.close()"
   ]
  },
  {
   "cell_type": "markdown",
   "metadata": {},
   "source": [
    "### optimized computational impl."
   ]
  },
  {
   "cell_type": "code",
   "execution_count": 19,
   "metadata": {
    "collapsed": true
   },
   "outputs": [],
   "source": [
    "from functools import reduce\n",
    "from tensorflow.python.ops import gradients_impl\n",
    "from tensorflow.python.ops import array_ops, tensor_array_ops, control_flow_ops\n",
    "\n",
<<<<<<< HEAD
    "def diagonal_inverse_hessians_highrank(ys, xs, gradients=None, name=\"hessians\", colocate_gradients_with_ops=False,\n",
=======
    "def invers_diagonal_hessians_highrank(ys, xs, gradients=None, name=\"hessians\", colocate_gradients_with_ops=False,\n",
>>>>>>> 5954167f2945c1c5d64c124e32c800c5a389dd79
    "            gate_gradients=False, aggregation_method=None):\n",
    "  \"\"\"Constructs the Hessian (one or more rank matrix) of sum of `ys` with respect to `x` in `xs`.\n",
    "  `hessians_highrank()` adds ops to the graph to output the Hessian matrix of `ys`\n",
    "  with respect to `xs`.  It returns a list of `Tensor` of length `len(xs)`\n",
    "  where each tensor is the Hessian of `sum(ys)`. This function currently\n",
    "  only supports evaluating the Hessian with respect to (a list of) one-\n",
    "  dimensional tensors.\n",
    "  The Hessian is a matrix of second-order partial derivatives of a scalar\n",
    "  tensor (see https://en.wikipedia.org/wiki/Hessian_matrix for more details).\n",
    "  Args:\n",
    "    ys: A `Tensor` or list of tensors to be differentiated.\n",
    "    xs: A `Tensor` or list of tensors to be used for differentiation.\n",
    "    name: Optional name to use for grouping all the gradient ops together.\n",
    "      defaults to 'hessians'.\n",
    "    colocate_gradients_with_ops: See `gradients()` documentation for details.\n",
    "    gate_gradients: See `gradients()` documentation for details.\n",
    "    aggregation_method: See `gradients()` documentation for details.\n",
    "  Returns:\n",
    "    A list of Hessian matrices of `sum(ys)` for each `x` in `xs`.\n",
    "  Raises:\n",
    "    LookupError: if one of the operations between `xs` and `ys` does not\n",
    "      have a registered gradient function.\n",
    "  \"\"\"\n",
    "  xs = gradients_impl._AsList(xs)\n",
    "  kwargs = {\n",
    "    'colocate_gradients_with_ops': colocate_gradients_with_ops,\n",
    "    'gate_gradients': gate_gradients,\n",
    "    'aggregation_method': aggregation_method\n",
    "  }\n",
    "  # Compute first-order derivatives and iterate for each x in xs.\n",
    "  hessians = []\n",
    "  _gradients = tf.gradients(ys, xs, **kwargs) if gradients is None else gradients\n",
    "  for i, _gradient, x in zip(range(len(xs)), _gradients, xs):\n",
    "    shape = x.shape\n",
    "    _gradient = tf.reshape(_gradient, [-1])\n",
    "    \n",
    "    n = tf.size(x)\n",
<<<<<<< HEAD
    "    g = tf.gradients(_gradient*tf.eye(n), x)[0]\n",
    "    hessian = tf.diag( 1.0 / tf.reshape(g, [-1]) )\n",
=======
    "    g = tf.gradients(_gradient, x)[0]\n",
    "    hessian = tf.diag( 1.0 / (tf.reshape(g, [-1]) + 1e-2) )\n",
>>>>>>> 5954167f2945c1c5d64c124e32c800c5a389dd79
    "    hessians.append(hessian)\n",
    "  return hessians"
   ]
  },
  {
   "cell_type": "code",
   "execution_count": 20,
   "metadata": {},
   "outputs": [
    {
     "name": "stdout",
     "output_type": "stream",
     "text": [
<<<<<<< HEAD
      "EPOCH 0 f=10.224 variables= ['0.468', '0.311']\n",
      "\t \tgradients= ['5.557', '7.800'] hessi_inv= [[ 0.250.], [ 0.  0.125]] delta= ['-1.389', '-0.975']\n",
      "EPOCH 1 f=2.390 variables= ['-0.921', '-0.664']\n",
      "\t \tgradients= ['0.829', '-0.829'] hessi_inv= [[ 0.250.], [ 0.  0.125]] delta= ['-0.207', '0.104']\n",
      "EPOCH 2 f=2.165 variables= ['-1.129', '-0.561']\n",
      "\t \tgradients= ['0.621', '-0.621'] hessi_inv= [[ 0.250.], [ 0.  0.125]] delta= ['-0.155', '0.078']\n",
      "EPOCH 3 f=2.038 variables= ['-1.284', '-0.483']\n",
      "\t \tgradients= ['0.466', '-0.466'] hessi_inv= [[ 0.250.], [ 0.  0.125]] delta= ['-0.117', '0.058']\n",
      "EPOCH 4 f=1.967 variables= ['-1.400', '-0.425']\n",
      "\t \tgradients= ['0.350', '-0.350'] hessi_inv= [[ 0.250.], [ 0.  0.125]] delta= ['-0.087', '0.044']\n",
      "EPOCH 5 f=1.927 variables= ['-1.488', '-0.381']\n",
      "\t \tgradients= ['0.262', '-0.262'] hessi_inv= [[ 0.250.], [ 0.  0.125]] delta= ['-0.066', '0.033']\n",
      "EPOCH 6 f=1.904 variables= ['-1.553', '-0.348']\n",
      "\t \tgradients= ['0.197', '-0.197'] hessi_inv= [[ 0.250.], [ 0.  0.125]] delta= ['-0.049', '0.025']\n",
      "EPOCH 7 f=1.891 variables= ['-1.603', '-0.324']\n",
      "\t \tgradients= ['0.147', '-0.147'] hessi_inv= [[ 0.250.], [ 0.  0.125]] delta= ['-0.037', '0.018']\n",
      "EPOCH 8 f=1.884 variables= ['-1.639', '-0.305']\n",
      "\t \tgradients= ['0.111', '-0.111'] hessi_inv= [[ 0.250.], [ 0.  0.125]] delta= ['-0.028', '0.014']\n",
      "EPOCH 9 f=1.880 variables= ['-1.667', '-0.291']\n",
      "\t \tgradients= ['0.083', '-0.083'] hessi_inv= [[ 0.250.], [ 0.  0.125]] delta= ['-0.021', '0.010']\n",
      "FINAL   f=1.878 variables= ['-1.688', '-0.281']\n"
=======
      "EPOCH 0 f=14.509 variables= ['0.219', '0.924']\n",
      "\t \tgradients= ['6.286', '10.981'] hessi_inv= [[ 0.24937655  0.  ], [ 0. 0.12484394]] delta= ['-1.568', '-1.371']\n",
      "EPOCH 1 f=1.995 variables= ['-1.348', '-0.447']\n",
      "\t \tgradients= ['0.409', '-0.380'] hessi_inv= [[ 0.24937655  0.  ], [ 0. 0.12484394]] delta= ['-0.102', '0.047']\n",
      "EPOCH 2 f=1.942 variables= ['-1.450', '-0.400']\n",
      "\t \tgradients= ['0.300', '-0.299'] hessi_inv= [[ 0.24937655  0.  ], [ 0. 0.12484394]] delta= ['-0.075', '0.037']\n",
      "EPOCH 3 f=1.913 variables= ['-1.525', '-0.362']\n",
      "\t \tgradients= ['0.225', '-0.225'] hessi_inv= [[ 0.24937655  0.  ], [ 0. 0.12484394]] delta= ['-0.056', '0.028']\n",
      "EPOCH 4 f=1.896 variables= ['-1.581', '-0.334']\n",
      "\t \tgradients= ['0.169', '-0.169'] hessi_inv= [[ 0.24937655  0.  ], [ 0. 0.12484394]] delta= ['-0.042', '0.021']\n",
      "EPOCH 5 f=1.887 variables= ['-1.623', '-0.313']\n",
      "\t \tgradients= ['0.127', '-0.127'] hessi_inv= [[ 0.24937655  0.  ], [ 0. 0.12484394]] delta= ['-0.032', '0.016']\n",
      "EPOCH 6 f=1.882 variables= ['-1.655', '-0.298']\n",
      "\t \tgradients= ['0.095', '-0.095'] hessi_inv= [[ 0.24937655  0.  ], [ 0. 0.12484394]] delta= ['-0.024', '0.012']\n",
      "EPOCH 7 f=1.879 variables= ['-1.679', '-0.286']\n",
      "\t \tgradients= ['0.071', '-0.071'] hessi_inv= [[ 0.24937655  0.  ], [ 0. 0.12484394]] delta= ['-0.018', '0.009']\n",
      "EPOCH 8 f=1.877 variables= ['-1.696', '-0.277']\n",
      "\t \tgradients= ['0.054', '-0.053'] hessi_inv= [[ 0.24937655  0.  ], [ 0. 0.12484394]] delta= ['-0.013', '0.007']\n",
      "EPOCH 9 f=1.876 variables= ['-1.710', '-0.270']\n",
      "\t \tgradients= ['0.040', '-0.040'] hessi_inv= [[ 0.24937655  0.  ], [ 0. 0.12484394]] delta= ['-0.010', '0.005']\n",
      "FINAL   f=1.876 variables= ['-1.720', '-0.265']\n"
>>>>>>> 5954167f2945c1c5d64c124e32c800c5a389dd79
     ]
    }
   ],
   "source": [
    "sess = tf.InteractiveSession()\n",
    "\n",
    "vs = tf.Variable(initial)\n",
    "f = vs[0]**2 + 2.0*vs[0]*vs[1] + 3.0*vs[1]**2 + 4.0*vs[0] + 5.0*vs[1] + 6.0\n",
    "sess.run(tf.global_variables_initializer())\n",
    "\n",
    "for e in range(10):\n",
    "    print('EPOCH', e, 'f=%.3f'%f.eval(), 'variables=', ['%.3f'%v for v in vs.eval()])\n",
    "    \n",
<<<<<<< HEAD
    "    grads = tf.gradients(f, vs, stop_gradients=vs)[0]\n",
    "    hessi_inv = diagonal_inverse_hessians_highrank(f, vs)[0]\n",
    "\n",
=======
    "    grads = tf.gradients(f, vs)[0]\n",
    "    hessi_inv = invers_diagonal_hessians_highrank(f, vs)[0]\n",
    "    \n",
>>>>>>> 5954167f2945c1c5d64c124e32c800c5a389dd79
    "    delta = - tf.reshape( tf.matmul(hessi_inv, tf.reshape(grads, [-1, 1])), [2] )\n",
    "    print('\\t \\tgradients=', ['%.3f'%g for g in grads.eval()],\n",
    "          'hessi_inv=', ('%s'%hessi_inv.eval()).replace('   ', '').replace('\\n', ','),\n",
    "          'delta=', ['%.3f'%d for d in delta.eval()])\n",
    "\n",
    "    op = vs.assign( vs + delta )\n",
    "    op.eval()\n",
    "\n",
    "print('FINAL  ', 'f=%.3f'%f.eval(), 'variables=', ['%.3f'%v for v in vs.eval()])\n",
    "sess.close()"
   ]
  },
  {
   "cell_type": "code",
<<<<<<< HEAD
   "execution_count": 9,
   "metadata": {},
   "outputs": [
    {
     "name": "stdout",
     "output_type": "stream",
     "text": [
      "EPOCH 0 f=10.224 variables= ['0.468', '0.311']\n",
      "\t \tgradients= ['5.557', '7.800'] hessi_inv= [[ 0.250.], [ 0.  0.125]] delta= ['-1.389', '-0.975']\n",
      "EPOCH 1 f=4.434 variables= ['-0.227', '-0.177']\n",
      "\t \tgradients= ['3.193', '3.486'] hessi_inv= [[ 0.250.], [ 0.  0.125]] delta= ['-0.798', '-0.436']\n",
      "EPOCH 2 f=2.876 variables= ['-0.626', '-0.395']\n",
      "\t \tgradients= ['1.959', '1.380'] hessi_inv= [[ 0.250.], [ 0.  0.125]] delta= ['-0.490', '-0.173']\n",
      "EPOCH 3 f=2.402 variables= ['-0.871', '-0.481']\n",
      "\t \tgradients= ['1.297', '0.373'] hessi_inv= [[ 0.250.], [ 0.  0.125]] delta= ['-0.324', '-0.047']\n",
      "EPOCH 4 f=2.219 variables= ['-1.033', '-0.504']\n",
      "\t \tgradients= ['0.926', '-0.091'] hessi_inv= [[ 0.250.], [ 0.  0.125]] delta= ['-0.231', '0.011']\n",
      "EPOCH 5 f=2.123 variables= ['-1.149', '-0.499']\n",
      "\t \tgradients= ['0.706', '-0.288'] hessi_inv= [[ 0.250.], [ 0.  0.125]] delta= ['-0.176', '0.036']\n",
      "EPOCH 6 f=2.061 variables= ['-1.237', '-0.481']\n",
      "\t \tgradients= ['0.565', '-0.357'] hessi_inv= [[ 0.250.], [ 0.  0.125]] delta= ['-0.141', '0.045']\n",
      "EPOCH 7 f=2.017 variables= ['-1.307', '-0.458']\n",
      "\t \tgradients= ['0.469', '-0.364'] hessi_inv= [[ 0.250.], [ 0.  0.125]] delta= ['-0.117', '0.046']\n",
      "EPOCH 8 f=1.983 variables= ['-1.366', '-0.435']\n",
      "\t \tgradients= ['0.397', '-0.345'] hessi_inv= [[ 0.250.], [ 0.  0.125]] delta= ['-0.099', '0.043']\n",
      "EPOCH 9 f=1.958 variables= ['-1.416', '-0.414']\n",
      "\t \tgradients= ['0.341', '-0.315'] hessi_inv= [[ 0.250.], [ 0.  0.125]] delta= ['-0.085', '0.039']\n",
      "FINAL   f=1.938 variables= ['-1.458', '-0.394']\n"
     ]
    }
   ],
   "source": [
    "sess = tf.InteractiveSession()\n",
    "\n",
    "vs = tf.Variable(initial)\n",
    "f = vs[0]**2 + 2.0*vs[0]*vs[1] + 3.0*vs[1]**2 + 4.0*vs[0] + 5.0*vs[1] + 6.0\n",
    "sess.run(tf.global_variables_initializer())\n",
    "\n",
    "for e in range(10):\n",
    "    print('EPOCH', e, 'f=%.3f'%f.eval(), 'variables=', ['%.3f'%v for v in vs.eval()])\n",
    "    \n",
    "    grads = tf.gradients(f, vs, stop_gradients=vs)[0]\n",
    "    hessi_inv = diagonal_inverse_hessians_highrank(f, vs)[0]\n",
    "\n",
    "    delta = - tf.reshape( tf.matmul(hessi_inv, tf.reshape(grads, [-1, 1])), [2] )\n",
    "    print('\\t \\tgradients=', ['%.3f'%g for g in grads.eval()],\n",
    "          'hessi_inv=', ('%s'%hessi_inv.eval()).replace('   ', '').replace('\\n', ','),\n",
    "          'delta=', ['%.3f'%d for d in delta.eval()])\n",
    "\n",
    "    op = vs.assign( vs + (0.5*delta) )\n",
    "    op.eval()\n",
    "\n",
    "print('FINAL  ', 'f=%.3f'%f.eval(), 'variables=', ['%.3f'%v for v in vs.eval()])\n",
    "sess.close()"
=======
   "execution_count": null,
   "metadata": {
    "collapsed": true
   },
   "outputs": [],
   "source": [
    "\n"
>>>>>>> 5954167f2945c1c5d64c124e32c800c5a389dd79
   ]
  },
  {
   "cell_type": "code",
   "execution_count": null,
   "metadata": {
    "collapsed": true
   },
   "outputs": [],
   "source": []
  }
 ],
 "metadata": {
  "kernelspec": {
   "display_name": "Python 3",
   "language": "python",
   "name": "python3"
  },
  "language_info": {
   "codemirror_mode": {
    "name": "ipython",
    "version": 3
   },
   "file_extension": ".py",
   "mimetype": "text/x-python",
   "name": "python",
   "nbconvert_exporter": "python",
   "pygments_lexer": "ipython3",
   "version": "3.5.2"
  }
 },
 "nbformat": 4,
 "nbformat_minor": 2
}
