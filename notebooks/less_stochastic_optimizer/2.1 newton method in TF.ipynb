{
 "cells": [
  {
   "cell_type": "markdown",
   "metadata": {},
   "source": [
    "## First-order Minimization"
   ]
  },
  {
   "cell_type": "code",
   "execution_count": 1,
   "metadata": {},
   "outputs": [],
   "source": [
    "import numpy as np\n",
    "import tensorflow as tf\n",
    "\n",
    "initial = [np.random.random_sample(), np.random.random_sample()]"
   ]
  },
  {
   "cell_type": "code",
   "execution_count": 2,
   "metadata": {},
   "outputs": [
    {
     "name": "stdout",
     "output_type": "stream",
     "text": [
      "EPOCH 0 f=10.533 variables= ['0.248', '0.498']\n",
      "\t \tgradients= ['5.492', '8.483'] delta= ['-1.098', '-1.697']\n",
      "EPOCH 1 f=3.678 variables= ['-0.850', '-1.199']\n",
      "\t \tgradients= ['-0.098', '-3.893'] delta= ['0.020', '0.779']\n",
      "EPOCH 2 f=2.494 variables= ['-0.831', '-0.420']\n",
      "\t \tgradients= ['1.498', '0.818'] delta= ['-0.300', '-0.164']\n",
      "EPOCH 3 f=2.179 variables= ['-1.130', '-0.584']\n",
      "\t \tgradients= ['0.572', '-0.763'] delta= ['-0.114', '0.153']\n",
      "EPOCH 4 f=2.046 variables= ['-1.245', '-0.431']\n",
      "\t \tgradients= ['0.648', '-0.076'] delta= ['-0.130', '0.015']\n",
      "EPOCH 5 f=1.974 variables= ['-1.374', '-0.416']\n",
      "\t \tgradients= ['0.419', '-0.244'] delta= ['-0.084', '0.049']\n",
      "EPOCH 6 f=1.933 variables= ['-1.458', '-0.367']\n",
      "\t \tgradients= ['0.349', '-0.119'] delta= ['-0.070', '0.024']\n",
      "EPOCH 7 f=1.909 variables= ['-1.528', '-0.343']\n",
      "\t \tgradients= ['0.257', '-0.116'] delta= ['-0.051', '0.023']\n",
      "EPOCH 8 f=1.895 variables= ['-1.580', '-0.320']\n",
      "\t \tgradients= ['0.201', '-0.080'] delta= ['-0.040', '0.016']\n",
      "EPOCH 9 f=1.887 variables= ['-1.620', '-0.304']\n",
      "\t \tgradients= ['0.152', '-0.064'] delta= ['-0.030', '0.013']\n",
      "FINAL   f=1.882 variables= ['-1.650', '-0.291']\n"
     ]
    }
   ],
   "source": [
    "sess = tf.InteractiveSession()\n",
    "\n",
    "vs = tf.Variable(initial, dtype='float32')\n",
    "f = vs[0]**2 + 2.0*vs[0]*vs[1] + 3.0*vs[1]**2 + 4.0*vs[0] + 5.0*vs[1] + 6.0\n",
    "sess.run(tf.global_variables_initializer())\n",
    "\n",
    "learning_rate = 0.2\n",
    "for e in range(10):\n",
    "    print('EPOCH', e, 'f=%.3f'%f.eval(), 'variables=', ['%.3f'%v for v in vs.eval()])\n",
    "    \n",
    "    grads = tf.gradients(f, vs)[0]\n",
    "    delta = -grads*learning_rate\n",
    "    print('\\t \\tgradients=', ['%.3f'%g for g in grads.eval()],\n",
    "          'delta=', ['%.3f'%d for d in delta.eval()])\n",
    "    op = vs.assign( vs + delta )\n",
    "    op.eval()\n",
    "\n",
    "print('FINAL  ', 'f=%.3f'%f.eval(), 'variables=', ['%.3f'%v for v in vs.eval()])\n",
    "sess.close()"
   ]
  },
  {
   "cell_type": "markdown",
   "metadata": {},
   "source": [
    "## Second-order Minimization"
   ]
  },
  {
   "cell_type": "code",
   "execution_count": 3,
   "metadata": {},
   "outputs": [
    {
     "name": "stdout",
     "output_type": "stream",
     "text": [
      "EPOCH 0 f=10.533 variables= ['0.248', '0.498']\n",
      "\t \tgradients= ['5.492', '8.483'] hessi= [[ 2.  2.], [ 2.  6.]] delta= ['1.998', '0.748']\n",
      "EPOCH 1 f=1.875 variables= ['-1.750', '-0.250']\n",
      "\t \tgradients= ['0.000', '0.000'] hessi= [[ 2.  2.], [ 2.  6.]] delta= ['0.000', '0.000']\n",
      "EPOCH 2 f=1.875 variables= ['-1.750', '-0.250']\n",
      "\t \tgradients= ['0.000', '0.000'] hessi= [[ 2.  2.], [ 2.  6.]] delta= ['0.000', '0.000']\n",
      "FINAL   f=1.875 variables= ['-1.750', '-0.250']\n"
     ]
    }
   ],
   "source": [
    "sess = tf.InteractiveSession()\n",
    "\n",
    "vs = tf.Variable(initial)\n",
    "f = vs[0]**2 + 2.0*vs[0]*vs[1] + 3.0*vs[1]**2 + 4.0*vs[0] + 5.0*vs[1] + 6.0\n",
    "sess.run(tf.global_variables_initializer())\n",
    "\n",
    "for e in range(3):\n",
    "    print('EPOCH', e, 'f=%.3f'%f.eval(), 'variables=', ['%.3f'%v for v in vs.eval()])\n",
    "    \n",
    "    grads = tf.gradients(f, vs)[0]\n",
    "    hessi = tf.hessians(f, vs)[0]\n",
    "    hessi_inv = tf.matrix_inverse(hessi)\n",
    "    delta = tf.reshape( tf.matmul(hessi_inv, tf.reshape(grads, [-1, 1])), [2] )\n",
    "    print('\\t \\tgradients=', ['%.3f'%g for g in grads.eval()],\n",
    "          'hessi=', ('%s'%hessi.eval()).replace('\\n', ','),\n",
    "          'delta=', ['%.3f'%d for d in delta.eval()])\n",
    "\n",
    "    op = vs.assign( vs - delta )\n",
    "    op.eval()\n",
    "\n",
    "print('FINAL  ', 'f=%.3f'%f.eval(), 'variables=', ['%.3f'%v for v in vs.eval()])\n",
    "sess.close()"
   ]
  }
 ],
 "metadata": {
  "kernelspec": {
   "display_name": "Python 3",
   "language": "python",
   "name": "python3"
  },
  "language_info": {
   "codemirror_mode": {
    "name": "ipython",
    "version": 3
   },
   "file_extension": ".py",
   "mimetype": "text/x-python",
   "name": "python",
   "nbconvert_exporter": "python",
   "pygments_lexer": "ipython3",
   "version": "3.6.2"
  }
 },
 "nbformat": 4,
 "nbformat_minor": 2
}
