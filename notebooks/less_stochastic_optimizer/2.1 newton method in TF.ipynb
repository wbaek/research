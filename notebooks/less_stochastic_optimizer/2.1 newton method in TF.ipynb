{
 "cells": [
  {
   "cell_type": "code",
   "execution_count": null,
   "metadata": {
    "collapsed": true
   },
   "outputs": [],
   "source": [
    "import numpy as np\n",
    "import tensorflow as tf"
   ]
  },
  {
   "cell_type": "code",
   "execution_count": null,
   "metadata": {
    "collapsed": true
   },
   "outputs": [],
   "source": [
    "# Newton's optimization method for multivariate function in tensorflow\n",
    "def compute_hessian(fn, vars):\n",
    "    grad = lambda f, v: tf.gradients(f, v)[0]\n",
    "    mat = []\n",
    "    for v1 in vars:\n",
    "        temp = []\n",
    "        for v2 in vars:\n",
    "            #temp.append(tf.gradients(tf.gradients(fn, v2)[0], v1)[0])\n",
    "            temp.append( grad(grad(fn, v2), v1) )\n",
    "        temp = [tf.constant(0, dtype=tf.float32) if t == None else t for t in temp]\n",
    "        temp = tf.stack(temp)\n",
    "        mat.append(temp)\n",
    "    mat = tf.stack(mat)\n",
    "    return mat\n",
    "\n",
    "def compute_grads(fn, vars):\n",
    "    grads = []\n",
    "    for v in vars:\n",
    "        grads.append(tf.gradients(fn, v)[0])\n",
    "    return tf.reshape(tf.stack(grads), shape=[len(vars), -1])\n",
    "\n",
    "def optimize(all_variables, update, alpha=tf.constant(1.0, dtype=tf.float32)):\n",
    "    optmize_variables = []\n",
    "    for i in range(len(all_variables)):\n",
    "        optmize_variables.append(all_variables[i].assign(all_variables[i] - alpha * tf.squeeze(update[i])))\n",
    "    return tf.stack(optmize_variables)"
   ]
  },
  {
   "cell_type": "code",
   "execution_count": null,
   "metadata": {
    "collapsed": true
   },
   "outputs": [],
   "source": [
    "x = tf.Variable(np.random.random_sample(), dtype=tf.float32)\n",
    "y = tf.Variable(np.random.random_sample(), dtype=tf.float32)\n",
    "\n",
    "#f = tf.constant(0.5, dtype=tf.float32) * tf.pow(x, 2) + tf.constant(2.5, dtype=tf.float32) * tf.pow(y, 2)\n",
    "f = tf.pow(x, 2) + tf.constant(2.0)*x*y + tf.constant(3.0)*tf.pow(y, 2) + tf.constant(4.0)*x + tf.constant(5.0)*y + tf.constant(6.0)\n",
    "all_variables = [x, y]\n",
    "\n",
    "hessian = compute_hessian(f, all_variables)\n",
    "hessian_inv = tf.matrix_inverse(hessian)\n",
    "first_order_grad = compute_grads(f, all_variables)\n",
    "second_order_grad = tf.unstack(tf.matmul(hessian_inv, first_order_grad))"
   ]
  },
  {
   "cell_type": "markdown",
   "metadata": {},
   "source": [
    "## first order optimization"
   ]
  },
  {
   "cell_type": "code",
   "execution_count": null,
   "metadata": {},
   "outputs": [],
   "source": [
    "optimize_op = optimize(all_variables, first_order_grad, tf.constant(0.2))\n",
    "\n",
    "sess = tf.Session()\n",
    "sess.run(tf.global_variables_initializer())\n",
    "\n",
    "func = np.inf\n",
    "for i in range(30):\n",
    "    prev = func\n",
    "    v1, v2, func = sess.run([x, y, f])\n",
    "    print(v1, v2, func)\n",
    "    sess.run(optimize_op)"
   ]
  },
  {
   "cell_type": "markdown",
   "metadata": {},
   "source": [
    "## second order optimization"
   ]
  },
  {
   "cell_type": "code",
   "execution_count": null,
   "metadata": {},
   "outputs": [],
   "source": [
    "optimize_op = optimize(all_variables, second_order_grad, tf.constant(0.9))\n",
    "\n",
    "sess = tf.Session()\n",
    "sess.run(tf.global_variables_initializer())\n",
    "\n",
    "func = np.inf\n",
    "for i in range(10):\n",
    "    prev = func\n",
    "    v1, v2, func = sess.run([x, y, f])\n",
    "    print(v1, v2, func)\n",
    "    sess.run(optimize_op)"
   ]
  },
  {
   "cell_type": "code",
   "execution_count": null,
   "metadata": {},
   "outputs": [],
   "source": [
    "optimize_op = optimize(all_variables, second_order_grad, tf.constant(1.0))\n",
    "\n",
    "sess = tf.Session()\n",
    "sess.run(tf.global_variables_initializer())\n",
    "\n",
    "func = np.inf\n",
    "for i in range(10):\n",
    "    prev = func\n",
    "    v1, v2, func = sess.run([x, y, f])\n",
    "    print(v1, v2, func)\n",
    "    sess.run(optimize_op)"
   ]
  },
  {
   "cell_type": "code",
   "execution_count": null,
   "metadata": {
    "collapsed": true
   },
   "outputs": [],
   "source": []
  }
 ],
 "metadata": {
  "kernelspec": {
   "display_name": "Python 3",
   "language": "python",
   "name": "python3"
  },
  "language_info": {
   "codemirror_mode": {
    "name": "ipython",
    "version": 3
   },
   "file_extension": ".py",
   "mimetype": "text/x-python",
   "name": "python",
   "nbconvert_exporter": "python",
   "pygments_lexer": "ipython3",
   "version": "3.5.2"
  }
 },
 "nbformat": 4,
 "nbformat_minor": 2
}
