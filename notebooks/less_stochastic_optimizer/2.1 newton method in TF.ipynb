{
 "cells": [
  {
   "cell_type": "code",
   "execution_count": 1,
   "metadata": {},
   "outputs": [
    {
     "name": "stderr",
     "output_type": "stream",
     "text": [
      "/Users/clint/virtualenv/tf/lib/python3.6/importlib/_bootstrap.py:205: RuntimeWarning: compiletime version 3.5 of module 'tensorflow.python.framework.fast_tensor_util' does not match runtime version 3.6\n",
      "  return f(*args, **kwds)\n"
     ]
    }
   ],
   "source": [
    "import numpy as np\n",
    "import tensorflow as tf\n",
    "\n",
    "initial = [np.random.random_sample(), np.random.random_sample()]"
   ]
  },
  {
   "cell_type": "markdown",
   "metadata": {},
   "source": [
    "## First-order Minimization"
   ]
  },
  {
   "cell_type": "code",
   "execution_count": 2,
   "metadata": {},
   "outputs": [
    {
     "name": "stdout",
     "output_type": "stream",
     "text": [
      "EPOCH 0 f=9.758 variables= ['0.364', '0.324']\n",
      "\t \tgradients= ['5.376', '7.671'] delta= ['-1.075', '-1.534']\n",
      "EPOCH 1 f=3.726 variables= ['-0.711', '-1.210']\n",
      "\t \tgradients= ['0.157', '-3.685'] delta= ['-0.031', '0.737']\n",
      "EPOCH 2 f=2.589 variables= ['-0.743', '-0.473']\n",
      "\t \tgradients= ['1.568', '0.674'] delta= ['-0.314', '-0.135']\n",
      "EPOCH 3 f=2.244 variables= ['-1.056', '-0.608']\n",
      "\t \tgradients= ['0.671', '-0.762'] delta= ['-0.134', '0.152']\n",
      "EPOCH 4 f=2.085 variables= ['-1.190', '-0.456']\n",
      "\t \tgradients= ['0.707', '-0.116'] delta= ['-0.141', '0.023']\n",
      "EPOCH 5 f=1.997 variables= ['-1.332', '-0.433']\n",
      "\t \tgradients= ['0.471', '-0.260'] delta= ['-0.094', '0.052']\n",
      "EPOCH 6 f=1.946 variables= ['-1.426', '-0.381']\n",
      "\t \tgradients= ['0.386', '-0.136'] delta= ['-0.077', '0.027']\n",
      "EPOCH 7 f=1.917 variables= ['-1.503', '-0.353']\n",
      "\t \tgradients= ['0.286', '-0.127'] delta= ['-0.057', '0.025']\n",
      "EPOCH 8 f=1.900 variables= ['-1.561', '-0.328']\n",
      "\t \tgradients= ['0.223', '-0.089'] delta= ['-0.045', '0.018']\n",
      "EPOCH 9 f=1.889 variables= ['-1.605', '-0.310']\n",
      "\t \tgradients= ['0.169', '-0.071'] delta= ['-0.034', '0.014']\n",
      "FINAL   f=1.883 variables= ['-1.639', '-0.296']\n"
     ]
    }
   ],
   "source": [
    "sess = tf.InteractiveSession()\n",
    "\n",
    "vs = tf.Variable(initial, dtype='float32')\n",
    "f = vs[0]**2 + 2.0*vs[0]*vs[1] + 3.0*vs[1]**2 + 4.0*vs[0] + 5.0*vs[1] + 6.0\n",
    "sess.run(tf.global_variables_initializer())\n",
    "\n",
    "learning_rate = 0.2\n",
    "for e in range(10):\n",
    "    print('EPOCH', e, 'f=%.3f'%f.eval(), 'variables=', ['%.3f'%v for v in vs.eval()])\n",
    "    \n",
    "    grads = tf.gradients(f, vs)[0]\n",
    "    delta = - grads*learning_rate\n",
    "    print('\\t \\tgradients=', ['%.3f'%g for g in grads.eval()],\n",
    "          'delta=', ['%.3f'%d for d in delta.eval()])\n",
    "    op = vs.assign( vs + delta )\n",
    "    op.eval()\n",
    "\n",
    "print('FINAL  ', 'f=%.3f'%f.eval(), 'variables=', ['%.3f'%v for v in vs.eval()])\n",
    "sess.close()"
   ]
  },
  {
   "cell_type": "markdown",
   "metadata": {},
   "source": [
    "## Second-order Minimization"
   ]
  },
  {
   "cell_type": "code",
   "execution_count": 3,
   "metadata": {},
   "outputs": [
    {
     "name": "stdout",
     "output_type": "stream",
     "text": [
      "EPOCH 0 f=9.758 variables= ['0.364', '0.324']\n",
      "\t \tgradients= ['5.376', '7.671'] hessi_inv= [[ 0.75 -0.25], [-0.25  0.25]] delta= ['-2.114', '-0.574']\n",
      "EPOCH 1 f=1.875 variables= ['-1.750', '-0.250']\n",
      "\t \tgradients= ['-0.000', '-0.000'] hessi_inv= [[ 0.75 -0.25], [-0.25  0.25]] delta= ['-0.000', '0.000']\n",
      "EPOCH 2 f=1.875 variables= ['-1.750', '-0.250']\n",
      "\t \tgradients= ['0.000', '0.000'] hessi_inv= [[ 0.75 -0.25], [-0.25  0.25]] delta= ['0.000', '-0.000']\n",
      "FINAL   f=1.875 variables= ['-1.750', '-0.250']\n"
     ]
    }
   ],
   "source": [
    "sess = tf.InteractiveSession()\n",
    "\n",
    "vs = tf.Variable(initial)\n",
    "f = vs[0]**2 + 2.0*vs[0]*vs[1] + 3.0*vs[1]**2 + 4.0*vs[0] + 5.0*vs[1] + 6.0\n",
    "sess.run(tf.global_variables_initializer())\n",
    "\n",
    "for e in range(3):\n",
    "    print('EPOCH', e, 'f=%.3f'%f.eval(), 'variables=', ['%.3f'%v for v in vs.eval()])\n",
    "    \n",
    "    grads = tf.gradients(f, vs)[0]\n",
    "    hessi = tf.hessians(f, vs)[0]\n",
    "    hessi_inv = tf.matrix_inverse(hessi)\n",
    "    delta = - tf.reshape( tf.matmul(hessi_inv, tf.reshape(grads, [-1, 1])), [2] )\n",
    "    print('\\t \\tgradients=', ['%.3f'%g for g in grads.eval()],\n",
    "          'hessi_inv=', ('%s'%hessi_inv.eval()).replace('\\n', ','),\n",
    "          'delta=', ['%.3f'%d for d in delta.eval()])\n",
    "\n",
    "    op = vs.assign( vs + delta )\n",
    "    op.eval()\n",
    "\n",
    "print('FINAL  ', 'f=%.3f'%f.eval(), 'variables=', ['%.3f'%v for v in vs.eval()])\n",
    "sess.close()"
   ]
  },
  {
   "cell_type": "markdown",
   "metadata": {},
   "source": [
    "## Second-order Minimization self implemented Hessian"
   ]
  },
  {
   "cell_type": "code",
   "execution_count": 4,
   "metadata": {},
   "outputs": [],
   "source": [
    "from functools import reduce\n",
    "from tensorflow.python.ops import gradients_impl\n",
    "from tensorflow.python.ops import array_ops, tensor_array_ops, control_flow_ops\n",
    "\n",
    "def hessians_highrank(ys, xs, gradients=None, name=\"hessians\", colocate_gradients_with_ops=False,\n",
    "            gate_gradients=False, aggregation_method=None):\n",
    "  \"\"\"Constructs the Hessian (one or more rank matrix) of sum of `ys` with respect to `x` in `xs`.\n",
    "  `hessians_highrank()` adds ops to the graph to output the Hessian matrix of `ys`\n",
    "  with respect to `xs`.  It returns a list of `Tensor` of length `len(xs)`\n",
    "  where each tensor is the Hessian of `sum(ys)`. This function currently\n",
    "  only supports evaluating the Hessian with respect to (a list of) one-\n",
    "  dimensional tensors.\n",
    "  The Hessian is a matrix of second-order partial derivatives of a scalar\n",
    "  tensor (see https://en.wikipedia.org/wiki/Hessian_matrix for more details).\n",
    "  Args:\n",
    "    ys: A `Tensor` or list of tensors to be differentiated.\n",
    "    xs: A `Tensor` or list of tensors to be used for differentiation.\n",
    "    name: Optional name to use for grouping all the gradient ops together.\n",
    "      defaults to 'hessians'.\n",
    "    colocate_gradients_with_ops: See `gradients()` documentation for details.\n",
    "    gate_gradients: See `gradients()` documentation for details.\n",
    "    aggregation_method: See `gradients()` documentation for details.\n",
    "  Returns:\n",
    "    A list of Hessian matrices of `sum(ys)` for each `x` in `xs`.\n",
    "  Raises:\n",
    "    LookupError: if one of the operations between `xs` and `ys` does not\n",
    "      have a registered gradient function.\n",
    "  \"\"\"\n",
    "  xs = gradients_impl._AsList(xs)\n",
    "  kwargs = {\n",
    "    'colocate_gradients_with_ops': colocate_gradients_with_ops,\n",
    "    'gate_gradients': gate_gradients,\n",
    "    'aggregation_method': aggregation_method\n",
    "  }\n",
    "  # Compute first-order derivatives and iterate for each x in xs.\n",
    "  hessians = []\n",
    "  _gradients = tf.gradients(ys, xs, **kwargs) if gradients is None else gradients\n",
    "  for i, _gradient, x in zip(range(len(xs)), _gradients, xs):\n",
    "    shape = x.shape\n",
    "    _gradient = tf.reshape(_gradient, [-1])\n",
    "    \n",
    "    n = tf.size(x)\n",
    "    loop_vars = [\n",
    "      array_ops.constant(0, tf.int32),\n",
    "      tensor_array_ops.TensorArray(x.dtype, n)\n",
    "    ]\n",
    "    _, hessian = control_flow_ops.while_loop(\n",
    "      lambda j, _: j < n,\n",
    "      lambda j, result: (j + 1, result.write(j, tf.gradients(_gradient[j], x, **kwargs)[0])),\n",
    "      loop_vars\n",
    "    )\n",
    "    hessians.append(hessian.stack())\n",
    "  return hessians"
   ]
  },
  {
   "cell_type": "code",
   "execution_count": 5,
   "metadata": {},
   "outputs": [
    {
     "name": "stdout",
     "output_type": "stream",
     "text": [
      "EPOCH 0 f=9.758 variables= ['0.364', '0.324']\n",
      "\t \tgradients= ['5.376', '7.671'] hessi_inv= [[ 0.75 -0.25], [-0.25  0.25]] delta= ['-2.114', '-0.574']\n",
      "EPOCH 1 f=1.875 variables= ['-1.750', '-0.250']\n",
      "\t \tgradients= ['-0.000', '-0.000'] hessi_inv= [[ 0.75 -0.25], [-0.25  0.25]] delta= ['-0.000', '0.000']\n",
      "EPOCH 2 f=1.875 variables= ['-1.750', '-0.250']\n",
      "\t \tgradients= ['0.000', '0.000'] hessi_inv= [[ 0.75 -0.25], [-0.25  0.25]] delta= ['0.000', '-0.000']\n",
      "FINAL   f=1.875 variables= ['-1.750', '-0.250']\n"
     ]
    }
   ],
   "source": [
    "sess = tf.InteractiveSession()\n",
    "\n",
    "vs = tf.Variable(initial)\n",
    "f = vs[0]**2 + 2.0*vs[0]*vs[1] + 3.0*vs[1]**2 + 4.0*vs[0] + 5.0*vs[1] + 6.0\n",
    "sess.run(tf.global_variables_initializer())\n",
    "\n",
    "for e in range(3):\n",
    "    print('EPOCH', e, 'f=%.3f'%f.eval(), 'variables=', ['%.3f'%v for v in vs.eval()])\n",
    "    \n",
    "    grads = tf.gradients(f, vs)[0]\n",
    "    hessi = hessians_highrank(f, vs)[0]\n",
    "    hessi_inv = tf.matrix_inverse(hessi)\n",
    "    delta = - tf.reshape( tf.matmul(hessi_inv, tf.reshape(grads, [-1, 1])), [2] )\n",
    "    print('\\t \\tgradients=', ['%.3f'%g for g in grads.eval()],\n",
    "          'hessi_inv=', ('%s'%hessi_inv.eval()).replace('\\n', ','),\n",
    "          'delta=', ['%.3f'%d for d in delta.eval()])\n",
    "\n",
    "    op = vs.assign( vs + delta )\n",
    "    op.eval()\n",
    "\n",
    "print('FINAL  ', 'f=%.3f'%f.eval(), 'variables=', ['%.3f'%v for v in vs.eval()])\n",
    "sess.close()"
   ]
  },
  {
   "cell_type": "markdown",
   "metadata": {},
   "source": [
    "## Second-order Minimization self implemented Diagonal Hessian"
   ]
  },
  {
   "cell_type": "markdown",
   "metadata": {},
   "source": [
    "### brute force"
   ]
  },
  {
   "cell_type": "code",
   "execution_count": 6,
   "metadata": {},
   "outputs": [
    {
     "name": "stdout",
     "output_type": "stream",
     "text": [
      "EPOCH 0 f=9.758 variables= ['0.364', '0.324']\n",
      "\t \tgradients= ['5.376', '7.671'] hessi_inv= [[ 0.50.  ], [ 0. 0.16666667]] delta= ['-2.688', '-1.279']\n",
      "EPOCH 1 f=4.503 variables= ['-2.324', '-0.955']\n",
      "\t \tgradients= ['-2.557', '-5.376'] hessi_inv= [[ 0.50.  ], [ 0. 0.16666667]] delta= ['1.279', '0.896']\n",
      "EPOCH 2 f=2.751 variables= ['-1.045', '-0.059']\n",
      "\t \tgradients= ['1.792', '2.557'] hessi_inv= [[ 0.50.  ], [ 0. 0.16666667]] delta= ['-0.896', '-0.426']\n",
      "EPOCH 3 f=2.167 variables= ['-1.941', '-0.485']\n",
      "\t \tgradients= ['-0.852', '-1.792'] hessi_inv= [[ 0.50.  ], [ 0. 0.16666667]] delta= ['0.426', '0.299']\n",
      "EPOCH 4 f=1.972 variables= ['-1.515', '-0.186']\n",
      "\t \tgradients= ['0.597', '0.852'] hessi_inv= [[ 0.50.  ], [ 0. 0.16666667]] delta= ['-0.299', '-0.142']\n",
      "EPOCH 5 f=1.907 variables= ['-1.814', '-0.328']\n",
      "\t \tgradients= ['-0.284', '-0.597'] hessi_inv= [[ 0.50.  ], [ 0. 0.16666667]] delta= ['0.142', '0.100']\n",
      "EPOCH 6 f=1.886 variables= ['-1.672', '-0.229']\n",
      "\t \tgradients= ['0.199', '0.284'] hessi_inv= [[ 0.50.  ], [ 0. 0.16666667]] delta= ['-0.100', '-0.047']\n",
      "EPOCH 7 f=1.879 variables= ['-1.771', '-0.276']\n",
      "\t \tgradients= ['-0.095', '-0.199'] hessi_inv= [[ 0.50.  ], [ 0. 0.16666667]] delta= ['0.047', '0.033']\n",
      "EPOCH 8 f=1.876 variables= ['-1.724', '-0.243']\n",
      "\t \tgradients= ['0.066', '0.095'] hessi_inv= [[ 0.50.  ], [ 0. 0.16666667]] delta= ['-0.033', '-0.016']\n",
      "EPOCH 9 f=1.875 variables= ['-1.757', '-0.259']\n",
      "\t \tgradients= ['-0.032', '-0.066'] hessi_inv= [[ 0.50.  ], [ 0. 0.16666667]] delta= ['0.016', '0.011']\n",
      "FINAL   f=1.875 variables= ['-1.741', '-0.248']\n"
     ]
    }
   ],
   "source": [
    "sess = tf.InteractiveSession()\n",
    "\n",
    "vs = tf.Variable(initial)\n",
    "f = vs[0]**2 + 2.0*vs[0]*vs[1] + 3.0*vs[1]**2 + 4.0*vs[0] + 5.0*vs[1] + 6.0\n",
    "sess.run(tf.global_variables_initializer())\n",
    "\n",
    "for e in range(10):\n",
    "    print('EPOCH', e, 'f=%.3f'%f.eval(), 'variables=', ['%.3f'%v for v in vs.eval()])\n",
    "    \n",
    "    grads = tf.gradients(f, vs, stop_gradients=vs)[0]\n",
    "    hessi = hessians_highrank(f, vs)[0] * tf.eye(2)\n",
    "    \n",
    "    hessi_inv = tf.matrix_inverse(hessi)\n",
    "    delta = - tf.reshape( tf.matmul(hessi_inv, tf.reshape(grads, [-1, 1])), [2] )\n",
    "    print('\\t \\tgradients=', ['%.3f'%g for g in grads.eval()],\n",
    "          'hessi_inv=', ('%s'%hessi_inv.eval()).replace('   ', '').replace('\\n', ','),\n",
    "          'delta=', ['%.3f'%d for d in delta.eval()])\n",
    "\n",
    "    op = vs.assign( vs + delta )\n",
    "    op.eval()\n",
    "\n",
    "print('FINAL  ', 'f=%.3f'%f.eval(), 'variables=', ['%.3f'%v for v in vs.eval()])\n",
    "sess.close()"
   ]
  },
  {
   "cell_type": "markdown",
   "metadata": {},
   "source": [
    "### optimized computational impl."
   ]
  },
  {
   "cell_type": "code",
   "execution_count": 7,
   "metadata": {},
   "outputs": [],
   "source": [
    "from functools import reduce\n",
    "from tensorflow.python.ops import gradients_impl\n",
    "from tensorflow.python.ops import array_ops, tensor_array_ops, control_flow_ops\n",
    "\n",
    "def diagonal_hessians_highrank(ys, xs, gradients=None, name=\"hessians\", colocate_gradients_with_ops=False,\n",
    "            gate_gradients=False, aggregation_method=None):\n",
    "  \"\"\"Constructs the Hessian (one or more rank matrix) of sum of `ys` with respect to `x` in `xs`.\n",
    "  `hessians_highrank()` adds ops to the graph to output the Hessian matrix of `ys`\n",
    "  with respect to `xs`.  It returns a list of `Tensor` of length `len(xs)`\n",
    "  where each tensor is the Hessian of `sum(ys)`. This function currently\n",
    "  only supports evaluating the Hessian with respect to (a list of) one-\n",
    "  dimensional tensors.\n",
    "  The Hessian is a matrix of second-order partial derivatives of a scalar\n",
    "  tensor (see https://en.wikipedia.org/wiki/Hessian_matrix for more details).\n",
    "  Args:\n",
    "    ys: A `Tensor` or list of tensors to be differentiated.\n",
    "    xs: A `Tensor` or list of tensors to be used for differentiation.\n",
    "    name: Optional name to use for grouping all the gradient ops together.\n",
    "      defaults to 'hessians'.\n",
    "    colocate_gradients_with_ops: See `gradients()` documentation for details.\n",
    "    gate_gradients: See `gradients()` documentation for details.\n",
    "    aggregation_method: See `gradients()` documentation for details.\n",
    "  Returns:\n",
    "    A list of Hessian matrices of `sum(ys)` for each `x` in `xs`.\n",
    "  Raises:\n",
    "    LookupError: if one of the operations between `xs` and `ys` does not\n",
    "      have a registered gradient function.\n",
    "  \"\"\"\n",
    "  xs = gradients_impl._AsList(xs)\n",
    "  kwargs = {\n",
    "    'colocate_gradients_with_ops': colocate_gradients_with_ops,\n",
    "    'gate_gradients': gate_gradients,\n",
    "    'aggregation_method': aggregation_method\n",
    "  }\n",
    "  # Compute first-order derivatives and iterate for each x in xs.\n",
    "  hessians = []\n",
    "  _gradients = tf.gradients(ys, xs, **kwargs) if gradients is None else gradients\n",
    "  for i, _gradient, x in zip(range(len(xs)), _gradients, xs):\n",
    "    shape = x.shape\n",
    "    _gradient = tf.reshape(_gradient, [-1])\n",
    "    \n",
    "    n = tf.size(x)\n",
    "    g = tf.gradients(_gradient*tf.eye(n), x)[0]\n",
    "    hessian = tf.diag( tf.reshape(g, [-1]) )\n",
    "    hessians.append(hessian)\n",
    "  return hessians"
   ]
  },
  {
   "cell_type": "code",
   "execution_count": 8,
   "metadata": {},
   "outputs": [
    {
     "name": "stdout",
     "output_type": "stream",
     "text": [
      "EPOCH 0 f=9.758 variables= ['0.364', '0.324']\n",
      "\t \tgradients= ['5.376', '7.671'] hessi_inv= [[ 0.250.], [ 0.  0.125]] delta= ['-1.344', '-0.959']\n",
      "EPOCH 1 f=2.320 variables= ['-0.980', '-0.635']\n",
      "\t \tgradients= ['0.770', '-0.770'] hessi_inv= [[ 0.250.], [ 0.  0.125]] delta= ['-0.192', '0.096']\n",
      "EPOCH 2 f=2.125 variables= ['-1.173', '-0.539']\n",
      "\t \tgradients= ['0.577', '-0.577'] hessi_inv= [[ 0.250.], [ 0.  0.125]] delta= ['-0.144', '0.072']\n",
      "EPOCH 3 f=2.016 variables= ['-1.317', '-0.467']\n",
      "\t \tgradients= ['0.433', '-0.433'] hessi_inv= [[ 0.250.], [ 0.  0.125]] delta= ['-0.108', '0.054']\n",
      "EPOCH 4 f=1.954 variables= ['-1.425', '-0.412']\n",
      "\t \tgradients= ['0.325', '-0.325'] hessi_inv= [[ 0.250.], [ 0.  0.125]] delta= ['-0.081', '0.041']\n",
      "EPOCH 5 f=1.920 variables= ['-1.506', '-0.372']\n",
      "\t \tgradients= ['0.244', '-0.244'] hessi_inv= [[ 0.250.], [ 0.  0.125]] delta= ['-0.061', '0.030']\n",
      "EPOCH 6 f=1.900 variables= ['-1.567', '-0.341']\n",
      "\t \tgradients= ['0.183', '-0.183'] hessi_inv= [[ 0.250.], [ 0.  0.125]] delta= ['-0.046', '0.023']\n",
      "EPOCH 7 f=1.889 variables= ['-1.613', '-0.319']\n",
      "\t \tgradients= ['0.137', '-0.137'] hessi_inv= [[ 0.250.], [ 0.  0.125]] delta= ['-0.034', '0.017']\n",
      "EPOCH 8 f=1.883 variables= ['-1.647', '-0.301']\n",
      "\t \tgradients= ['0.103', '-0.103'] hessi_inv= [[ 0.250.], [ 0.  0.125]] delta= ['-0.026', '0.013']\n",
      "EPOCH 9 f=1.879 variables= ['-1.673', '-0.289']\n",
      "\t \tgradients= ['0.077', '-0.077'] hessi_inv= [[ 0.250.], [ 0.  0.125]] delta= ['-0.019', '0.010']\n",
      "FINAL   f=1.878 variables= ['-1.692', '-0.279']\n"
     ]
    }
   ],
   "source": [
    "sess = tf.InteractiveSession()\n",
    "\n",
    "vs = tf.Variable(initial)\n",
    "f = vs[0]**2 + 2.0*vs[0]*vs[1] + 3.0*vs[1]**2 + 4.0*vs[0] + 5.0*vs[1] + 6.0\n",
    "sess.run(tf.global_variables_initializer())\n",
    "\n",
    "for e in range(10):\n",
    "    print('EPOCH', e, 'f=%.3f'%f.eval(), 'variables=', ['%.3f'%v for v in vs.eval()])\n",
    "    \n",
    "    grads = tf.gradients(f, vs, stop_gradients=vs)[0]\n",
    "    hessi = diagonal_hessians_highrank(f, vs)[0]\n",
    "    \n",
    "    hessi_inv = tf.matrix_inverse(hessi)\n",
    "    delta = - tf.reshape( tf.matmul(hessi_inv, tf.reshape(grads, [-1, 1])), [2] )\n",
    "    print('\\t \\tgradients=', ['%.3f'%g for g in grads.eval()],\n",
    "          'hessi_inv=', ('%s'%hessi_inv.eval()).replace('   ', '').replace('\\n', ','),\n",
    "          'delta=', ['%.3f'%d for d in delta.eval()])\n",
    "\n",
    "    op = vs.assign( vs + delta )\n",
    "    op.eval()\n",
    "\n",
    "print('FINAL  ', 'f=%.3f'%f.eval(), 'variables=', ['%.3f'%v for v in vs.eval()])\n",
    "sess.close()"
   ]
  },
  {
   "cell_type": "code",
   "execution_count": null,
   "metadata": {},
   "outputs": [],
   "source": []
  },
  {
   "cell_type": "code",
   "execution_count": null,
   "metadata": {},
   "outputs": [],
   "source": []
  }
 ],
 "metadata": {
  "kernelspec": {
   "display_name": "Python 3",
   "language": "python",
   "name": "python3"
  },
  "language_info": {
   "codemirror_mode": {
    "name": "ipython",
    "version": 3
   },
   "file_extension": ".py",
   "mimetype": "text/x-python",
   "name": "python",
   "nbconvert_exporter": "python",
   "pygments_lexer": "ipython3",
   "version": "3.6.2"
  }
 },
 "nbformat": 4,
 "nbformat_minor": 2
}
