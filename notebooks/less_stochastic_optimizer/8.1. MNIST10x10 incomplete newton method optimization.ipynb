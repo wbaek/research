{
 "cells": [
  {
   "cell_type": "code",
   "execution_count": null,
   "metadata": {},
   "outputs": [],
   "source": [
    "import functools\n",
    "import tensorflow as tf\n",
    "from core.model import ModelMNIST10x10_base\n",
    "from core.hessian import diagonal_inverse_hessians_highrank\n",
    "\n",
    "class Implement(ModelMNIST10x10_base):\n",
    "    def __init__(self, batch_size=128, opt=tf.train.MomentumOptimizer(0.1, 0.9, use_nesterov=True)):\n",
    "        super(Implement, self).__init__(batch_size, opt)\n",
    "\n",
    "    def compute_gradient(self, cost, var_refs):\n",
    "        grads = tf.gradients(\n",
    "                cost, var_refs,\n",
    "                grad_ys=None, aggregation_method=None, colocate_gradients_with_ops=True)\n",
    "        hessis = diagonal_inverse_hessians_highrank(\n",
    "                 cost, var_refs, gradients=grads,\n",
    "                 aggregation_method=None, colocate_gradients_with_ops=True)\n",
    "        \n",
    "        second_order_grads = []\n",
    "        for l, g, h in zip(range(len(grads)), grads, hessis):\n",
    "            shape = g.shape\n",
    "            d = int(functools.reduce(lambda a,b: a*b, shape))\n",
    "\n",
    "            h_inv = tf.reshape(h, shape)\n",
    "            delta = tf.multiply(h_inv, g)\n",
    "            second_order_grads.append(delta)\n",
    "            \n",
    "            tf.summary.histogram('update/gradient/{}'.format(l), g)\n",
    "            tf.summary.histogram('update/hessian/{}'.format(l), h)\n",
    "            tf.summary.histogram('update/delta/{}'.format(l), delta)            \n",
    "        return second_order_grads"
   ]
  },
  {
   "cell_type": "code",
   "execution_count": null,
   "metadata": {},
   "outputs": [
    {
     "name": "stdout",
     "output_type": "stream",
     "text": [
      "\u001b[32m[1124 14:26:40 @fs.py:89]\u001b[0m \u001b[5m\u001b[31mWRN\u001b[0m Env var $TENSORPACK_DATASET not set, using /root/tensorpack_data for datasets.\n",
      "\u001b[32m[1124 14:26:40 @prefetch.py:169]\u001b[0m [PrefetchData] Will fork a dataflow more than one times. This assumes the datapoints are i.i.d.\n",
      "[INFO] session initialized\n",
      "[INFO] [0000] [train] cost:11385.927 accuracy:0.218 elapsed:3.948sec [valid] cost:0.325 accuracy:0.103 elapsed:0.139sec\n",
      "[INFO] [0001] [train] cost:0.325 accuracy:0.109 elapsed:2.750sec [valid] cost:0.325 accuracy:0.116 elapsed:0.122sec\n",
      "[INFO] [0002] [train] cost:0.325 accuracy:0.108 elapsed:2.739sec [valid] cost:0.325 accuracy:0.103 elapsed:0.124sec\n",
      "[INFO] [0003] [train] cost:0.325 accuracy:0.109 elapsed:2.709sec [valid] cost:0.325 accuracy:0.114 elapsed:0.119sec\n",
      "[INFO] [0004] [train] cost:0.325 accuracy:0.110 elapsed:2.647sec [valid] cost:0.325 accuracy:0.113 elapsed:0.125sec\n",
      "[INFO] [0005] [train] cost:0.325 accuracy:0.109 elapsed:2.675sec [valid] cost:0.325 accuracy:0.114 elapsed:0.111sec\n",
      "[INFO] [0006] [train] cost:0.325 accuracy:0.110 elapsed:2.649sec [valid] cost:0.325 accuracy:0.114 elapsed:0.119sec\n",
      "[INFO] [0007] [train] cost:0.325 accuracy:0.109 elapsed:2.710sec [valid] cost:0.325 accuracy:0.114 elapsed:0.122sec\n",
      "[INFO] [0008] [train] cost:0.325 accuracy:0.110 elapsed:2.728sec [valid] cost:0.325 accuracy:0.112 elapsed:0.122sec\n",
      "[INFO] [0009] [train] cost:0.325 accuracy:0.110 elapsed:2.699sec [valid] cost:0.325 accuracy:0.112 elapsed:0.123sec\n",
      "[INFO] [0010] [train] cost:0.325 accuracy:0.109 elapsed:2.646sec [valid] cost:0.325 accuracy:0.114 elapsed:0.119sec\n",
      "[INFO] [0011] [train] cost:0.325 accuracy:0.109 elapsed:2.667sec [valid] cost:0.325 accuracy:0.113 elapsed:0.120sec\n",
      "[INFO] [0012] [train] cost:0.325 accuracy:0.110 elapsed:2.629sec [valid] cost:0.325 accuracy:0.115 elapsed:0.116sec\n"
     ]
    }
   ],
   "source": [
    "import sys\n",
    "import logging\n",
    "logging.basicConfig(level=logging.INFO, format='[%(levelname)s] %(message)s', stream=sys.stdout)\n",
    "\n",
    "from core.utils import loop\n",
    "model = Implement(batch_size=128)\n",
    "history = loop(model, 30, './summary/8_1_incomplete_second_order_optimization_batch_128')"
   ]
  },
  {
   "cell_type": "code",
   "execution_count": null,
   "metadata": {},
   "outputs": [],
   "source": [
    "import matplotlib\n",
    "%matplotlib inline\n",
    "\n",
    "from core.utils import plot_jupyter\n",
    "plot_jupyter(history)"
   ]
  },
  {
   "cell_type": "code",
   "execution_count": null,
   "metadata": {},
   "outputs": [],
   "source": []
  }
 ],
 "metadata": {
  "kernelspec": {
   "display_name": "Python 3",
   "language": "python",
   "name": "python3"
  },
  "language_info": {
   "codemirror_mode": {
    "name": "ipython",
    "version": 3
   },
   "file_extension": ".py",
   "mimetype": "text/x-python",
   "name": "python",
   "nbconvert_exporter": "python",
   "pygments_lexer": "ipython3",
   "version": "3.5.2"
  }
 },
 "nbformat": 4,
 "nbformat_minor": 2
}
