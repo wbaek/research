{
 "cells": [
  {
   "cell_type": "markdown",
   "metadata": {},
   "source": [
    "# less stochastic optimizer\n",
    "\n",
    "\n",
    "# 2. related works"
   ]
  },
  {
   "cell_type": "markdown",
   "metadata": {},
   "source": [
    "* [Goyal, Priya, et al. \"Accurate, Large Minibatch SGD: Training ImageNet in 1 Hour.\" arXiv preprint arXiv:1706.02677 (2017).][1]\n",
    "* [Huang, Gao, et al. \"Snapshot ensembles: Train 1, get m for free.\" arXiv preprint arXiv:1704.00109 (2017).][2]\n",
    "* [Ngiam, Jiquan, et al. \"On optimization methods for deep learning.\" Proceedings of the 28th international conference on machine learning (ICML-11). 2011.][3]\n",
    "* [Martens, James. \"Deep learning via Hessian-free optimization.\" Proceedings of the 27th International Conference on Machine Learning (ICML-10). 2010.][4]\n",
    "\n",
    "[1]: https://arxiv.org/abs/1706.02677 \"[2017] Accurate, Large Minibatch SGD- Training ImageNet in 1 Hour\"\n",
    "[2]: https://arxiv.org/abs/1704.00109 \"[2017] SNAPSHOT ENSEMBLES: TRAIN 1, GET M FOR FREE\"\n",
    "[3]: http://machinelearning.wustl.edu/mlpapers/paper_files/ICML2011Le_210.pdf \"[2011] On optimization methods for deep learning\" \n",
    "[4]: http://machinelearning.wustl.edu/mlpapers/paper_files/icml2010_Martens10.pdf \"[2010] Deep learning via Hessian-free optimization\""
   ]
  },
  {
   "cell_type": "markdown",
   "metadata": {},
   "source": [
    "<table>\n",
    "  <tr><td colspan=2>\n",
    "    <img src=\"materials/related_works_imagenet_1hour_accuracy_vs_minibatch.png\" style=\"width:640px\"/>\n",
    "  </td></tr>\n",
    "  <tr><td>\n",
    "    <img src=\"materials/related_works_optimization%20methods_optimizers_vs_minibatch.png\" style=\"width:640px\"/>\n",
    "  </td><td>\n",
    "    <img src=\"materials/related_works_optimization%20methods_optimizers_vs_sgd_linesearch.png\" style=\"width:640px\"/>\n",
    "  </td></tr>\n",
    "  <tr><td colspan=2>\n",
    "    <img src=\"materials/related_works_ensembles.png\" style=\"width:920px\"/>\n",
    "  </td></tr>\n",
    "</table>"
   ]
  },
  {
   "cell_type": "code",
   "execution_count": null,
   "metadata": {
    "collapsed": true
   },
   "outputs": [],
   "source": []
  }
 ],
 "metadata": {
  "kernelspec": {
   "display_name": "Python 3",
   "language": "python",
   "name": "python3"
  },
  "language_info": {
   "codemirror_mode": {
    "name": "ipython",
    "version": 3
   },
   "file_extension": ".py",
   "mimetype": "text/x-python",
   "name": "python",
   "nbconvert_exporter": "python",
   "pygments_lexer": "ipython3",
   "version": "3.5.2"
  }
 },
 "nbformat": 4,
 "nbformat_minor": 2
}
