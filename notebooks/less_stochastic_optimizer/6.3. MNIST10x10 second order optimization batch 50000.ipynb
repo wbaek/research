{
 "cells": [
  {
   "cell_type": "code",
   "execution_count": null,
   "metadata": {},
   "outputs": [],
   "source": [
    "import functools\n",
    "import tensorflow as tf\n",
    "from core.model import ModelMNIST10x10_base\n",
    "from core.hessian import hessians_highrank\n",
    "\n",
    "class Implement(ModelMNIST10x10_base):\n",
    "    def __init__(self, batch_size=128, opt=tf.train.MomentumOptimizer(0.1, 0.9, use_nesterov=True)):\n",
    "        super(Implement, self).__init__(batch_size, opt)\n",
    "\n",
    "    def compute_gradient(self, cost, var_refs):\n",
    "        grads = tf.gradients(\n",
    "                cost, var_refs,\n",
    "                grad_ys=None, aggregation_method=None, colocate_gradients_with_ops=True)\n",
    "        hessis = hessians_highrank(\n",
    "                 cost, var_refs, gradients=grads,\n",
    "                 aggregation_method=None, colocate_gradients_with_ops=True)\n",
    "        \n",
    "        second_order_grads = []\n",
    "        for l, g, h in zip(range(len(grads)), grads, hessis):\n",
    "            shape = g.shape\n",
    "            d = int(functools.reduce(lambda a,b: a*b, shape))\n",
    "\n",
    "            g = tf.reshape(g, [d, 1])\n",
    "            h = tf.reshape(h, [d, d]) + (tf.eye(d) * 1e-1)\n",
    "            h_inv = tf.matrix_inverse(h)\n",
    "            delta = tf.matmul(h_inv, g)\n",
    "            delta = tf.reshape(delta, shape)\n",
    "            second_order_grads.append(delta)\n",
    "            \n",
    "            tf.summary.histogram('update/gradient/{}'.format(l), g)\n",
    "            tf.summary.histogram('update/hessian/{}'.format(l), h)\n",
    "            tf.summary.histogram('update/delta/{}'.format(l), delta)            \n",
    "        return second_order_grads"
   ]
  },
  {
   "cell_type": "code",
   "execution_count": null,
   "metadata": {},
   "outputs": [],
   "source": [
    "import sys\n",
    "import logging\n",
    "logging.basicConfig(level=logging.INFO, format='[%(levelname)s] %(message)s', stream=sys.stdout)\n",
    "\n",
    "from core.utils import loop\n",
    "model = Implement(batch_size=50000)\n",
    "history = loop(model, 30, './summary/6_3_second_order_optimization_batch_50000')"
   ]
  },
  {
   "cell_type": "code",
   "execution_count": null,
   "metadata": {},
   "outputs": [],
   "source": [
    "import matplotlib\n",
    "%matplotlib inline\n",
    "\n",
    "from core.utils import plot_jupyter\n",
    "plot_jupyter(history)"
   ]
  },
  {
   "cell_type": "code",
   "execution_count": null,
   "metadata": {},
   "outputs": [],
   "source": []
  }
 ],
 "metadata": {
  "kernelspec": {
   "display_name": "Python 3",
   "language": "python",
   "name": "python3"
  },
  "language_info": {
   "codemirror_mode": {
    "name": "ipython",
    "version": 3
   },
   "file_extension": ".py",
   "mimetype": "text/x-python",
   "name": "python",
   "nbconvert_exporter": "python",
   "pygments_lexer": "ipython3",
   "version": "3.5.2"
  }
 },
 "nbformat": 4,
 "nbformat_minor": 2
}
