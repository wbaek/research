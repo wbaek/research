{
 "cells": [
  {
   "cell_type": "code",
   "execution_count": null,
   "metadata": {},
   "outputs": [],
   "source": [
    "import functools\n",
    "import tensorflow as tf\n",
    "from core.model import ModelMNIST10x10_base\n",
    "from core.hessian import hessians_highrank\n",
    "\n",
    "class Implement(ModelMNIST10x10_base):\n",
    "    def __init__(self, batch_size=128, opt=tf.train.MomentumOptimizer(0.1, 0.0, use_nesterov=False)):\n",
    "        super(Implement, self).__init__(batch_size, opt)\n",
    "\n",
    "    def compute_gradient(self, cost, var_refs):\n",
    "        grads = tf.gradients(\n",
    "                cost, var_refs,\n",
    "                grad_ys=None, aggregation_method=None, colocate_gradients_with_ops=True)\n",
    "        hessis = hessians_highrank(\n",
    "                 cost, var_refs, gradients=grads,\n",
    "                 aggregation_method=None, colocate_gradients_with_ops=True)\n",
    "        \n",
    "        second_order_grads = []\n",
    "        for l, g, h in zip(range(len(grads)), grads, hessis):\n",
    "            shape = g.shape\n",
    "            d = int(functools.reduce(lambda a,b: a*b, shape))\n",
    "\n",
    "            g = tf.reshape(g, [d, 1])\n",
    "            h = tf.reshape(h, [d, d]) + (tf.eye(d) * 1e-1)\n",
    "            h_inv = tf.matrix_inverse(h)\n",
    "            delta = tf.matmul(h_inv, g)\n",
    "            delta = tf.reshape(delta, shape)\n",
    "#            delta = tf.clip_by_value(delta, -1e1, 1e1)\n",
    "#            delta = tf.clip_by_norm(delta, 1.0)\n",
    "            second_order_grads.append(delta)\n",
    "            \n",
    "            tf.summary.histogram('update/gradient/{}'.format(l), g)\n",
    "            tf.summary.histogram('update/hessian/{}'.format(l), h)\n",
    "            tf.summary.histogram('update/delta/{}'.format(l), delta)            \n",
    "        return second_order_grads"
   ]
  },
  {
   "cell_type": "code",
   "execution_count": null,
   "metadata": {},
   "outputs": [
    {
     "name": "stdout",
     "output_type": "stream",
     "text": [
      "\u001b[32m[1124 15:35:30 @fs.py:89]\u001b[0m \u001b[5m\u001b[31mWRN\u001b[0m Env var $TENSORPACK_DATASET not set, using /root/tensorpack_data for datasets.\n",
      "\u001b[32m[1124 15:35:31 @prefetch.py:169]\u001b[0m [PrefetchData] Will fork a dataflow more than one times. This assumes the datapoints are i.i.d.\n",
      "[INFO] session initialized\n"
     ]
    }
   ],
   "source": [
    "import sys\n",
    "import logging\n",
    "logging.basicConfig(level=logging.DEBUG, format='[%(levelname)s] %(message)s', stream=sys.stdout)\n",
    "\n",
    "from core.utils import loop\n",
    "model = Implement(batch_size=128*100)\n",
    "history = loop(model, 30, './summary/6_2_second_order_optimization_batch_128*100')"
   ]
  },
  {
   "cell_type": "code",
   "execution_count": null,
   "metadata": {},
   "outputs": [],
   "source": [
    "import matplotlib\n",
    "%matplotlib inline\n",
    "\n",
    "from core.utils import plot_jupyter\n",
    "plot_jupyter(history)"
   ]
  },
  {
   "cell_type": "code",
   "execution_count": null,
   "metadata": {},
   "outputs": [],
   "source": []
  }
 ],
 "metadata": {
  "kernelspec": {
   "display_name": "Python 3",
   "language": "python",
   "name": "python3"
  },
  "language_info": {
   "codemirror_mode": {
    "name": "ipython",
    "version": 3
   },
   "file_extension": ".py",
   "mimetype": "text/x-python",
   "name": "python",
   "nbconvert_exporter": "python",
   "pygments_lexer": "ipython3",
   "version": "3.5.2"
  }
 },
 "nbformat": 4,
 "nbformat_minor": 2
}
